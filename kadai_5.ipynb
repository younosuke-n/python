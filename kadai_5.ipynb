{
 "cells": [
  {
   "cell_type": "markdown",
   "metadata": {},
   "source": [
    "# 1"
   ]
  },
  {
   "cell_type": "markdown",
   "metadata": {},
   "source": [
    "以下のプログラムにおいて、整数以外が入力されたときに例外が発生して停止するが、それをtry-exceptで例外を捕まえて\"Not an integer!\"とメッセージを出力して再度入力待ちに移るように修正せよ。\n",
    "```python\n",
    "while True:\n",
    "    value = input(\"Integer, please [q to quit]: \")\n",
    "    if value == 'q': #終了\n",
    "        break\n",
    "    number = int(value)\n",
    "    if number % 2 == 0: #偶数\n",
    "        continue\n",
    "    print(number, \"squared is\", number*number)\n",
    "```"
   ]
  },
  {
   "cell_type": "code",
   "execution_count": 1,
   "metadata": {},
   "outputs": [
    {
     "name": "stdout",
     "output_type": "stream",
     "text": [
      "Integer, please [q to quit]: 1\n",
      "1 squared is 1\n",
      "Integer, please [q to quit]: 2\n",
      "Integer, please [q to quit]: 3\n",
      "3 squared is 9\n",
      "Integer, please [q to quit]: a\n",
      "Not an integer!\n",
      "Integer, please [q to quit]: q\n"
     ]
    }
   ],
   "source": [
    "while True:\n",
    "    value = input(\"Integer, please [q to quit]: \")\n",
    "    if value == 'q': #終了\n",
    "        break\n",
    "    \n",
    "    try:\n",
    "        number = int(value)\n",
    "        if number % 2 == 0: #偶数\n",
    "            continue\n",
    "        print(number, \"squared is\", number*number)\n",
    "    except ValueError:\n",
    "        print('Not an integer!')\n",
    "        continue"
   ]
  },
  {
   "cell_type": "markdown",
   "metadata": {},
   "source": [
    "# 2"
   ]
  },
  {
   "cell_type": "markdown",
   "metadata": {},
   "source": [
    "練習問題5に解答せよ。"
   ]
  },
  {
   "cell_type": "markdown",
   "metadata": {},
   "source": [
    "# 3"
   ]
  },
  {
   "cell_type": "markdown",
   "metadata": {},
   "source": [
    "課題4-2の解答として以下の関数を作成したが、どういうわけか正しい経路が出力されない。この関数gsに含まれるバグを修正せよ。\n",
    "```python\n",
    "graph = {'a': {'b','c','d'}, 'b': {'d','g'}, 'c': {'b', 'e','g'}, 'd':{'e','f'}, 'e':{'f','g'}, 'f': set(), 'g':set(})\n",
    "path = []\n",
    "def gs(x,y,path):\n",
    "    path.append(x)\n",
    "    if x == y:\n",
    "        print(path)\n",
    "        return True\n",
    "    else:\n",
    "        if graph[x] == set():\n",
    "            return False\n",
    "        else:\n",
    "            for z in graph[x]:\n",
    "                if z in path:\n",
    "                    return False\n",
    "                else:\n",
    "                    if gs(z,y,path):\n",
    "                        return True\n",
    "\n",
    "gs('a','g',[])\n",
    "['a', 'd', 'f', 'e', 'b', 'g']\n",
    "```"
   ]
  },
  {
   "cell_type": "code",
   "execution_count": 3,
   "metadata": {},
   "outputs": [],
   "source": [
    "graph = {'a': {'b','c','d'}, 'b': {'d','g'}, 'c': {'b', 'e','g'}, 'd':{'e','f'}, 'e':{'f','g'}, 'f': set(), 'g':set()} # FIXME } -> )\n",
    "path = []\n",
    "\n",
    "\n",
    "\n",
    "def gs(x,y,path):\n",
    "     path.append(x)\n",
    "     if x == y:\n",
    "          print(path)\n",
    "          return True\n",
    "     else:\n",
    "          if graph[x] == set():\n",
    "              return False\n",
    "          else:\n",
    "               for z in graph[x]:\n",
    "                   if z in path:\n",
    "                       return False\n",
    "                   else:\n",
    "                       if gs(z,y,path):\n",
    "                           return True"
   ]
  },
  {
   "cell_type": "code",
   "execution_count": 8,
   "metadata": {},
   "outputs": [
    {
     "name": "stdout",
     "output_type": "stream",
     "text": [
      "['b', 'd', 'e', 'g']\n"
     ]
    },
    {
     "data": {
      "text/plain": [
       "True"
      ]
     },
     "execution_count": 8,
     "metadata": {},
     "output_type": "execute_result"
    }
   ],
   "source": [
    "gs('b','g',[])"
   ]
  },
  {
   "cell_type": "code",
   "execution_count": null,
   "metadata": {},
   "outputs": [],
   "source": []
  }
 ],
 "metadata": {
  "kernelspec": {
   "display_name": "Python 3",
   "language": "python",
   "name": "python3"
  },
  "language_info": {
   "codemirror_mode": {
    "name": "ipython",
    "version": 3
   },
   "file_extension": ".py",
   "mimetype": "text/x-python",
   "name": "python",
   "nbconvert_exporter": "python",
   "pygments_lexer": "ipython3",
   "version": "3.8.5"
  }
 },
 "nbformat": 4,
 "nbformat_minor": 4
}
