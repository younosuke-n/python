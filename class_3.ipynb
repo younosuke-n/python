{
 "cells": [
  {
   "cell_type": "markdown",
   "metadata": {},
   "source": [
    "# Pythonの基礎2"
   ]
  },
  {
   "cell_type": "markdown",
   "metadata": {},
   "source": [
    "## 練習問題1"
   ]
  },
  {
   "cell_type": "markdown",
   "metadata": {},
   "source": [
    "0から100までの整数をmarkという変数に代入し、\n",
    "\n",
    "<ul>\n",
    "    <li>markが60未満の時は\"不可\"\n",
    "    <li>markが60以上70未満の時は\"可\"\n",
    "    <li>markが70以上80未満の時は\"良\"\n",
    "    <li>markが80以上100以下の時は\"優\"\n",
    "</ul>\n",
    "と表示するような処理を書け。"
   ]
  },
  {
   "cell_type": "code",
   "execution_count": 1,
   "metadata": {},
   "outputs": [
    {
     "name": "stdout",
     "output_type": "stream",
     "text": [
      "不可\n",
      "不可\n",
      "不可\n",
      "不可\n",
      "不可\n",
      "不可\n",
      "不可\n",
      "不可\n",
      "不可\n",
      "不可\n",
      "不可\n",
      "不可\n",
      "不可\n",
      "不可\n",
      "不可\n",
      "不可\n",
      "不可\n",
      "不可\n",
      "不可\n",
      "不可\n",
      "不可\n",
      "不可\n",
      "不可\n",
      "不可\n",
      "不可\n",
      "不可\n",
      "不可\n",
      "不可\n",
      "不可\n",
      "不可\n",
      "不可\n",
      "不可\n",
      "不可\n",
      "不可\n",
      "不可\n",
      "不可\n",
      "不可\n",
      "不可\n",
      "不可\n",
      "不可\n",
      "不可\n",
      "不可\n",
      "不可\n",
      "不可\n",
      "不可\n",
      "不可\n",
      "不可\n",
      "不可\n",
      "不可\n",
      "不可\n",
      "不可\n",
      "不可\n",
      "不可\n",
      "不可\n",
      "不可\n",
      "不可\n",
      "不可\n",
      "不可\n",
      "不可\n",
      "不可\n",
      "可\n",
      "可\n",
      "可\n",
      "可\n",
      "可\n",
      "可\n",
      "可\n",
      "可\n",
      "可\n",
      "可\n",
      "良\n",
      "良\n",
      "良\n",
      "良\n",
      "良\n",
      "良\n",
      "良\n",
      "良\n",
      "良\n",
      "良\n",
      "優\n",
      "優\n",
      "優\n",
      "優\n",
      "優\n",
      "優\n",
      "優\n",
      "優\n",
      "優\n",
      "優\n",
      "優\n",
      "優\n",
      "優\n",
      "優\n",
      "優\n",
      "優\n",
      "優\n",
      "優\n",
      "優\n",
      "優\n",
      "優\n"
     ]
    }
   ],
   "source": [
    "for mark in range(0, 101):\n",
    "    if mark < 60:\n",
    "        print(\"不可\")\n",
    "    elif mark < 70:\n",
    "        print(\"可\")\n",
    "    elif mark < 80:\n",
    "        print(\"良\")\n",
    "    elif mark <= 100:\n",
    "        print(\"優\")"
   ]
  },
  {
   "cell_type": "markdown",
   "metadata": {},
   "source": [
    "## 練習問題2"
   ]
  },
  {
   "cell_type": "markdown",
   "metadata": {},
   "source": [
    "先のbirthstones辞書で、キーと値の両方を別々の変数month, stoneに格納して、\n",
    "\n",
    "The birthstone of month is stone.\n",
    "\n",
    "というメッセージを繰り返し表示してみよう（month, stoneは変数により適切に置き換えられるものとする）。"
   ]
  },
  {
   "cell_type": "code",
   "execution_count": 4,
   "metadata": {},
   "outputs": [
    {
     "name": "stdout",
     "output_type": "stream",
     "text": [
      "The birthstone of Jan is Garnet\n",
      "The birthstone of Feb is Amethyst\n",
      "The birthstone of Mar is Acquamarine\n",
      "The birthstone of Apr is Diamond\n",
      "The birthstone of May is Emerald\n"
     ]
    }
   ],
   "source": [
    "birthstones = {'Jan': 'Garnet', 'Feb': 'Amethyst', 'Mar': 'Acquamarine', \\\n",
    "              'Apr': 'Diamond', 'May': 'Emerald'}\n",
    "\n",
    "for month, stone in birthstones.items():\n",
    "    print(\"The birthstone of %s is %s\" %(month, stone))"
   ]
  },
  {
   "cell_type": "markdown",
   "metadata": {},
   "source": [
    "## 練習問題3"
   ]
  },
  {
   "cell_type": "markdown",
   "metadata": {},
   "source": [
    "上記の処理をelse節を使わずに書き直してみよう。"
   ]
  },
  {
   "cell_type": "code",
   "execution_count": 9,
   "metadata": {},
   "outputs": [
    {
     "name": "stdout",
     "output_type": "stream",
     "text": [
      "This is not much of a cheese shop, is it?\n"
     ]
    }
   ],
   "source": [
    "cheeses = []\n",
    "for cheese in cheeses:\n",
    "    print('This shop has some lovely', cheese)\n",
    "    break\n",
    "else:# breakしていないということはチーズがないということ\n",
    "    print('This is not much of a cheese shop, is it?')\n",
    "    "
   ]
  },
  {
   "cell_type": "code",
   "execution_count": 1,
   "metadata": {},
   "outputs": [
    {
     "name": "stdout",
     "output_type": "stream",
     "text": [
      "This is not much of a cheese shop, is it?\n"
     ]
    }
   ],
   "source": [
    "cheeses = []\n",
    "for cheese in cheeses:\n",
    "    print('This shop has some lovely', cheese)\n",
    "    break\n",
    "if not cheeses:\n",
    "    print('This is not much of a cheese shop, is it?')"
   ]
  },
  {
   "cell_type": "markdown",
   "metadata": {},
   "source": [
    "## 練習問題4"
   ]
  },
  {
   "cell_type": "markdown",
   "metadata": {},
   "source": [
    "上記でrowsの範囲を1から10まで、colsの範囲も1から10までにし、rowsは偶数のみ、colsは3の倍数のみ取り出してリストcellsを作ってみよう。"
   ]
  },
  {
   "cell_type": "code",
   "execution_count": 13,
   "metadata": {},
   "outputs": [
    {
     "name": "stdout",
     "output_type": "stream",
     "text": [
      "(2, 3)\n",
      "(2, 6)\n",
      "(2, 9)\n",
      "(4, 3)\n",
      "(4, 6)\n",
      "(4, 9)\n",
      "(6, 3)\n",
      "(6, 6)\n",
      "(6, 9)\n",
      "(8, 3)\n",
      "(8, 6)\n",
      "(8, 9)\n",
      "(10, 3)\n",
      "(10, 6)\n",
      "(10, 9)\n"
     ]
    }
   ],
   "source": [
    "rows = range(1, 11)\n",
    "cols = range(1, 11)\n",
    "cells = [(row, col) for row in rows for col in cols if row % 2 == 0 if col % 3 == 0]\n",
    "for cell in cells:\n",
    "    print(cell)"
   ]
  },
  {
   "cell_type": "markdown",
   "metadata": {},
   "source": [
    "## 練習問題5"
   ]
  },
  {
   "cell_type": "markdown",
   "metadata": {},
   "source": [
    "上記のコードで'e'と't'の処理が複数回発生するため無駄が生じる。 これを無駄が生じないように書き換えてみよ。"
   ]
  },
  {
   "cell_type": "code",
   "execution_count": 22,
   "metadata": {},
   "outputs": [
    {
     "data": {
      "text/plain": [
       "{'l': 1, 'e': 2, 't': 2, 'r': 1, 's': 1}"
      ]
     },
     "execution_count": 22,
     "metadata": {},
     "output_type": "execute_result"
    }
   ],
   "source": [
    "word = 'letters'\n",
    "letter_counts = {letter: word.count(letter) for letter in word}\n",
    "letter_counts"
   ]
  },
  {
   "cell_type": "code",
   "execution_count": 5,
   "metadata": {},
   "outputs": [
    {
     "data": {
      "text/plain": [
       "{'t': 2, 's': 1, 'e': 2, 'l': 1, 'r': 1}"
      ]
     },
     "execution_count": 5,
     "metadata": {},
     "output_type": "execute_result"
    }
   ],
   "source": [
    "word = 'letters'\n",
    "letter_counts = {letter: word.count(letter) for letter in set(word)}\n",
    "letter_counts"
   ]
  },
  {
   "cell_type": "code",
   "execution_count": 21,
   "metadata": {},
   "outputs": [
    {
     "data": {
      "text/plain": [
       "{'l': 1, 'e': 2, 't': 2, 'r': 1, 's': 1}"
      ]
     },
     "execution_count": 21,
     "metadata": {},
     "output_type": "execute_result"
    }
   ],
   "source": [
    "word = 'letters'\n",
    "letter_counts = {letter: word.count(letter) for letter, number in zip(word, range(0, len(word))) if word.index(letter) == number}\n",
    "letter_counts"
   ]
  },
  {
   "cell_type": "code",
   "execution_count": 3,
   "metadata": {},
   "outputs": [
    {
     "name": "stdout",
     "output_type": "stream",
     "text": [
      "5\n"
     ]
    }
   ],
   "source": [
    "word = 'letters'\n",
    "count = 0\n",
    "for letter, number in zip(word, range(0, len(word))): \n",
    "    if word.index(letter) == number:\n",
    "        count += 1\n",
    "        \n",
    "print(count)"
   ]
  },
  {
   "cell_type": "code",
   "execution_count": 4,
   "metadata": {},
   "outputs": [
    {
     "name": "stdout",
     "output_type": "stream",
     "text": [
      "5\n"
     ]
    }
   ],
   "source": [
    "count = 0\n",
    "for letter in set(word):\n",
    "    count+= 1\n",
    "    \n",
    "print(count)"
   ]
  },
  {
   "cell_type": "markdown",
   "metadata": {},
   "source": [
    "## 練習問題6"
   ]
  },
  {
   "cell_type": "markdown",
   "metadata": {},
   "source": [
    "2つの文字列を引数とし、このどちらか一方の文字列が他方の文字列内に含まれる場合、Trueを返し、それ以外の場合、Falseを返す関数（isIn関数）を書け。組み込み関数のstr型演算子inを使ってもよい。"
   ]
  },
  {
   "cell_type": "code",
   "execution_count": 6,
   "metadata": {},
   "outputs": [
    {
     "name": "stdout",
     "output_type": "stream",
     "text": [
      "False\n",
      "True\n",
      "True\n"
     ]
    }
   ],
   "source": [
    "def isIn(str1, str2):\n",
    "    return str1 in str2 or str2 in str1\n",
    "    \n",
    "str1 = 'I am Sam'\n",
    "str2 = 's'\n",
    "str3 = 'S'\n",
    "\n",
    "print(isIn(str1, str2))\n",
    "print(isIn(str1, str3))\n",
    "print(isIn(str3, str1))"
   ]
  },
  {
   "cell_type": "markdown",
   "metadata": {},
   "source": [
    "## 練習問題7"
   ]
  },
  {
   "cell_type": "markdown",
   "metadata": {},
   "source": [
    "想定した通りのふるまいをする関数workを書け。"
   ]
  },
  {
   "cell_type": "code",
   "execution_count": 25,
   "metadata": {},
   "outputs": [
    {
     "name": "stdout",
     "output_type": "stream",
     "text": [
      "['a']\n",
      "['a', 'b']\n"
     ]
    }
   ],
   "source": [
    "def buggy(arg, result=[]):\n",
    "    result.append(arg)\n",
    "    print(result)\n",
    "\n",
    "buggy('a')\n",
    "buggy('b')"
   ]
  },
  {
   "cell_type": "code",
   "execution_count": 35,
   "metadata": {},
   "outputs": [
    {
     "name": "stdout",
     "output_type": "stream",
     "text": [
      "['a']\n",
      "['b']\n"
     ]
    }
   ],
   "source": [
    "def work(arg, result=[]):\n",
    "    result = []\n",
    "    result.append(arg)\n",
    "    print(result)\n",
    "    \n",
    "work('a')\n",
    "work('b')"
   ]
  }
 ],
 "metadata": {
  "kernelspec": {
   "display_name": "Python 3",
   "language": "python",
   "name": "python3"
  },
  "language_info": {
   "codemirror_mode": {
    "name": "ipython",
    "version": 3
   },
   "file_extension": ".py",
   "mimetype": "text/x-python",
   "name": "python",
   "nbconvert_exporter": "python",
   "pygments_lexer": "ipython3",
   "version": "3.8.5"
  }
 },
 "nbformat": 4,
 "nbformat_minor": 4
}
