{
 "cells": [
  {
   "cell_type": "markdown",
   "id": "66d439ed",
   "metadata": {},
   "source": [
    "# 1"
   ]
  },
  {
   "cell_type": "markdown",
   "id": "6d99c2e7",
   "metadata": {},
   "source": [
    "mammoth.txt中の詩を変数poemに読み込み、cで始まるすべての単語を表示せよ。"
   ]
  },
  {
   "cell_type": "code",
   "execution_count": 1,
   "id": "03fcca5c",
   "metadata": {},
   "outputs": [],
   "source": [
    "import re\n",
    "import pandas as pd\n",
    "import numpy as np"
   ]
  },
  {
   "cell_type": "code",
   "execution_count": 14,
   "id": "f3b8da43",
   "metadata": {},
   "outputs": [
    {
     "name": "stdout",
     "output_type": "stream",
     "text": [
      "['cheese', 'cial', 'city', 'Cows', 'cheese', 'ceive', 'car', 'cheek', 'could', 'cheese', 'cast', 'crush']\n"
     ]
    }
   ],
   "source": [
    "pattern = r'c[A-Z]+'\n",
    "\n",
    "with open('./kadai15files/mammoth.txt', 'rt') as fin:\n",
    "    poem = fin.read()\n",
    "    m = re.findall(pattern, poem, flags=re.IGNORECASE)\n",
    "    print(m)"
   ]
  },
  {
   "cell_type": "markdown",
   "id": "eb184ebb",
   "metadata": {},
   "source": [
    "# 2"
   ]
  },
  {
   "cell_type": "markdown",
   "id": "b9aef9a6",
   "metadata": {},
   "source": [
    "1と同様の設定において、cで始まるすべての４文字単語を表示せよ。"
   ]
  },
  {
   "cell_type": "code",
   "execution_count": 16,
   "id": "2ad947a2",
   "metadata": {},
   "outputs": [
    {
     "name": "stdout",
     "output_type": "stream",
     "text": [
      "['cial', 'city', 'Cows', 'cast']\n"
     ]
    }
   ],
   "source": [
    "pattern = r'c[A-Z]{3}\\b'\n",
    "\n",
    "with open('./kadai15files/mammoth.txt', 'rt') as fin:\n",
    "    poem = fin.read()\n",
    "    m = re.findall(pattern, poem, flags=re.IGNORECASE)\n",
    "    print(m)"
   ]
  },
  {
   "cell_type": "markdown",
   "id": "dcd3efc9",
   "metadata": {},
   "source": [
    "# 3"
   ]
  },
  {
   "cell_type": "markdown",
   "id": "10bc7cc0",
   "metadata": {},
   "source": [
    "1と同様の設定において、lで終わるすべての単語を表示せよ。"
   ]
  },
  {
   "cell_type": "code",
   "execution_count": 26,
   "id": "7dfab0b4",
   "metadata": {},
   "outputs": [
    {
     "name": "stdout",
     "output_type": "stream",
     "text": [
      "['All', 'Provincial', 'fall']\n"
     ]
    }
   ],
   "source": [
    "pattern = r'(?<!\\')[A-Z]+l\\b'\n",
    "\n",
    "with open('./kadai15files/mammoth.txt', 'rt') as fin:\n",
    "    poem = fin.read()\n",
    "    m = re.findall(pattern, poem, flags=re.IGNORECASE)\n",
    "    print(m)"
   ]
  },
  {
   "cell_type": "markdown",
   "id": "11b5ce45",
   "metadata": {},
   "source": [
    "# 4"
   ]
  },
  {
   "cell_type": "code",
   "execution_count": 3,
   "id": "63f5f547",
   "metadata": {},
   "outputs": [],
   "source": [
    "import codecs"
   ]
  },
  {
   "cell_type": "code",
   "execution_count": 33,
   "id": "2c8553be",
   "metadata": {},
   "outputs": [
    {
     "name": "stdout",
     "output_type": "stream",
     "text": [
      "<html>\r\n",
      "<head>\r\n",
      "<meta HTTP-EQUIV=\"Content-Type\" CONTENT=\"text/html;CHARSET=UTF-8\">\r\n",
      "<meta HTTP-EQUIV=\"Content-Style-Type\" CONTENT=\"text/css\">\r\n",
      "<title>導入とPythonのデータ型</title>\r\n",
      "\r\n",
      "<style type=\"text/css\">\r\n",
      "<!--\r\n",
      "body {background-color: darkseagreen;\r\n",
      "      line-height: 150%\r\n",
      "}\r\n",
      "\r\n",
      "h1 {color: white; \r\n",
      "    padding: 10 10 10 10;\r\n",
      "    font-family: \"ヒラギノ角ゴ Pro W3\", \"Hiragino Kaku Gothic Pro W3\", \"メイリオ\", Meiryo, \"ＭＳ Ｐゴシック\", sans-serif;\r\n",
      "    text-shadow: 4px 4px 0px #000000;\r\n",
      "    background: -ms-linear-gradient(left, #0000ff, rgba(0,0,255,0));\r\n",
      "    background: -moz-linear-gradient(left, #0000ff, rgba(0,0,255,0));\r\n",
      "    background: -webkit-gradient(linear, left top, right top, from(#0000ff), to(rgba(0,0,255,0)));\r\n",
      "}\r\n",
      "\r\n",
      "h2 {padding: 7px;\r\n",
      "    font-family: \"ヒラギノ角ゴ Pro W3\", \"Hiragino Kaku Gothic Pro W3\", \"メイリオ\", Meiryo, \"ＭＳ Ｐゴシック\", sans-serif;\r\n",
      "    text-shadow: 3px 3px 0px #000000;\r\n",
      "    color: white;\r\n",
      "    background: royalblue\r\n",
      "}\r\n",
      "\r\n",
      "h3 {padding: 6px;\r\n",
      "    font-family: \"ヒラギノ角ゴ Pro W3\", \"Hiragino Kaku Gothic Pro W3\", \"メイリオ\", Meiryo, \"ＭＳ Ｐゴシック\", sans-serif;\r\n",
      "    text-shadow: 3px 3px 0px #000000;\r\n",
      "    color: white;\r\n",
      "    background: teal;\r\n",
      "}\r\n",
      "\r\n",
      "h4 {font-family: \"ヒラギノ角ゴ Pro W3\", \"Hiragino Kaku Gothic Pro W3\", \"メイリオ\", Meiryo, \"ＭＳ Ｐゴシック\", sans-serif;\r\n",
      "}\r\n",
      "\r\n",
      "div.solid { \r\n",
      "\t/*border: thin black solid;*/\r\n",
      "\tborder: 1px solid gray; \r\n",
      "\tpadding: 10px;\r\n",
      "\twidth:80%;\r\n",
      "}\r\n",
      "\r\n",
      "div.program { \r\n",
      "\t/*border: thin black solid;*/\r\n",
      "\tborder: 1px solid gray; \r\n",
      "\tpadding: 10px;\r\n",
      "\twidth:80%;\r\n",
      "\tline-height: 100%;\r\n",
      "\tfont-family: \"ＭＳ ゴシック\";\r\n",
      "}\r\n",
      "\r\n",
      "pre.program {\r\n",
      "    font-family: Courier, monospace;\r\n",
      "}\r\n",
      "\r\n",
      "img {\r\n",
      "    padding: 6px\r\n",
      "}\r\n",
      "\r\n",
      "\r\n",
      "table {\r\n",
      "\tborder-collapse: collapse;\r\n",
      "\tline-height: 100%;\r\n",
      "}\r\n",
      "\r\n",
      "td {\r\n",
      "\tborder: solid 1px;\r\n",
      "}\r\n",
      "\r\n",
      "th {\r\n",
      "\tborder: solid 1px;\r\n",
      "\tbackground-color: gainsboro;\r\n",
      "}\r\n",
      "\r\n",
      "div.formula {\r\n",
      "\tborder: 1px solid gray; \r\n",
      "\tpadding: 10px;\r\n",
      "\tfont-family: \"ヒラギノ角ゴ Pro W3\", \"Hiragino Kaku Gothic Pro W3\", \"メイリオ\", Meiryo, \"ＭＳ Ｐゴシック\", sans-serif;\r\n",
      "}\r\n",
      "-->\r\n",
      "</style>\r\n",
      "\r\n",
      "</head>\r\n",
      "\r\n",
      "<h1>導入</h1>\r\n",
      "\r\n",
      "<a name=\"abstract\"><h2>概要</h2></a>\r\n",
      "\r\n",
      "<p>\r\n",
      "プログラミング言語Pythonによるプログラミングの学習を進め、様々なライブラリの使用方法を学習する。\r\n",
      "また、初歩の計算理論や計算量理論についても理解を深める。\r\n",
      "</p>\r\n",
      "\r\n",
      "<h1>Pythonの開発環境の構築</h1>\r\n",
      "<h2>Pythonのダウンロードとインストール</h2>\r\n",
      "<p>\r\n",
      "まずはPythonの実行系をインストールしよう。\r\n",
      "以下ではWindowsでの導入法を示す。\r\n",
      "他のOSの場合は<a href=\"https://www.sejuku.net/blog/33294\">このサイト</a>を参照のこと。\r\n",
      "</p>\r\n",
      "\r\n",
      "<p>\r\n",
      "まず、Pythonの<a href=\"https://www.python.org/downloads/\">ダウンロードサイト</a>にアクセスする。\r\n",
      "そこにある\"Download Python 3.8.2\"とあるボタンをクリックしてもダウンロードできるが、32bit用なので、64bit用が良ければ下図の\"Windows\"というところをクリックしてダウンロードサイトに移動する。\r\n",
      "</p>\r\n",
      "<img src=\"img1/python_download_1.png\">\r\n",
      "\r\n",
      "<p>\r\n",
      "ダウンロードサイトにあるPython3.8.2のダウンロードリストから\"Download Windows x86-64 executable installer\"をクリックすればインストーラがダウンロードされる。\r\n",
      "インストーラを実行すると下図のような窓が開く（図では64bitだが、32bitでも構わない）。\r\n",
      "ここで、下のチェックボックス\"Add Python 3.8 to PATH\"にチェックを入れておくのを忘れずに。\r\n",
      "これはPythonのインストールフォルダを環境変数PATHに追加するもので、コマンドプロンプトでPythonがどのワーキングフォルダでも実行できるようになる。\r\n",
      "赤枠で囲んだ\"Install Now\"をクリックするとインストールが始まる。\r\n",
      "</p>\r\n",
      "<img src=\"img1/python_install_1.png\">\r\n",
      "\r\n",
      "<p>\r\n",
      "何事もなければそれでインストールが完了するはずである。\r\n",
      "</p>\r\n",
      "<img src=\"img1/python_install_2.png\">\r\n",
      "\r\n",
      "<h2>Pythonのライブラリのインストール</h2>\r\n",
      "<p>\r\n",
      "PythonにはpipというPythonパッケージを管理するためのツールがある。\r\n",
      "これを利用してnumpy, pandasなどのライブラリをインストールする。\r\n",
      "まずコマンドプロンプトを管理者モードで起動しよう。\r\n",
      "</p>\r\n",
      "\r\n",
      "<p>\r\n",
      "最初に、pipを最新版にアップグレードしておこう。\r\n",
      "コマンドプロンプトで以下のコマンドを入力する。\r\n",
      "</p>\r\n",
      "<div class=\"formula\">\r\n",
      "python -m pip install --upgrade pip\r\n",
      "</div>\r\n",
      "\r\n",
      "<p>\r\n",
      "すると、下図のようにメッセージが現れ、アップグレードが完了する。\r\n",
      "</p>\r\n",
      "\r\n",
      "<img src=\"img1/pip_upgrade.png\">\r\n",
      "\r\n",
      "<p>\r\n",
      "<font color=\"blue\">コマンドを入力しても実行できない場合はPythonのインストールフォルダへのパスが環境変数に登録されていないことが考えられる。\r\n",
      "自分で環境変数を登録するか、Pythonを再インストールして環境変数の変更のチェックボックスにチェックを入れて再度インストールすること。</font>\r\n",
      "</p>\r\n",
      "\r\n",
      "<p>\r\n",
      "以下、(numpy,) pandas, matplotlibをインストールする（numpyは標準で入っている場合もあるので不要の可能性もあるが年のため）。\r\n",
      "下記のコマンドを入力する。\r\n",
      "</p>\r\n",
      "\r\n",
      "<div class=\"program\">\r\n",
      "(python -m pip install numpy) <br>\r\n",
      "python -m pip install pandas <br>\r\n",
      "python -m pip install matplotlib\r\n",
      "</div>\r\n",
      "\r\n",
      "<p>\r\n",
      "ここまでインストールすると、開発環境のIDLEが使用できるようになっているはずである。\r\n",
      "早速起動して、以下のプログラムを入力してみよう。\r\n",
      "IDLEのシェルに一行ずつ入力していけばよい。\r\n",
      "</p>\r\n",
      "\r\n",
      "<div class=\"program\">\r\n",
      "<pre>\r\n",
      "import matplotlib.pyplot as plt\r\n",
      "import numpy as np\r\n",
      "\r\n",
      "x = np.linspace(-3, 3, 20)\r\n",
      "y = x ** 2\r\n",
      "\r\n",
      "plt.plot(x, y)\r\n",
      "plt.show()\r\n",
      "</pre>\r\n",
      "</div>\r\n",
      "\r\n",
      "<p>\r\n",
      "下図のようなグラフが現れれば成功である。\r\n",
      "</p>\r\n",
      "\r\n",
      "<img src=\"img1/intro_ex1.png\">\r\n",
      "<p>\r\n",
      "<hr>\r\n",
      "<a href=\"index.html\" target=\"_top\">トップページへ</a>\r\n",
      "</p>\r\n",
      "\r\n",
      "</html>\r\n",
      "\n"
     ]
    }
   ],
   "source": [
    "head = '.*head.*'\n",
    "img = '.*img.*'\n",
    "katakana = r'[\\u30A0-\\u30FF]+'\n",
    "\n",
    "fin = codecs.open('./kadai15files/sample.html', 'r', 'utf-8')\n",
    "\n",
    "text = fin.read()\n",
    "print(text)\n",
    "m = re.findall(katakana, text)\n",
    "# m"
   ]
  },
  {
   "cell_type": "code",
   "execution_count": null,
   "id": "065b04e9",
   "metadata": {},
   "outputs": [],
   "source": []
  }
 ],
 "metadata": {
  "kernelspec": {
   "display_name": "Python 3",
   "language": "python",
   "name": "python3"
  },
  "language_info": {
   "codemirror_mode": {
    "name": "ipython",
    "version": 3
   },
   "file_extension": ".py",
   "mimetype": "text/x-python",
   "name": "python",
   "nbconvert_exporter": "python",
   "pygments_lexer": "ipython3",
   "version": "3.8.10"
  }
 },
 "nbformat": 4,
 "nbformat_minor": 5
}
