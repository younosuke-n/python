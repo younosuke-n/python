{
 "cells": [
  {
   "cell_type": "markdown",
   "metadata": {},
   "source": [
    "# テストとデバッグ、例外とアサーション"
   ]
  },
  {
   "cell_type": "markdown",
   "metadata": {},
   "source": [
    "## 練習問題1"
   ]
  },
  {
   "cell_type": "markdown",
   "metadata": {},
   "source": [
    "以下の仕様を持つ関数find_negative()に対するブラックボックステストスイートを与えよ。\n",
    "```python\n",
    "def find_negative(L):\n",
    "    \"\"\"Lは数値のリスト\n",
    "       Lの中に初めて出現する負の数を返す。\n",
    "       Lの中に負の数がなければ0を返す。\"\"\"\n",
    "```"
   ]
  },
  {
   "cell_type": "code",
   "execution_count": 5,
   "metadata": {},
   "outputs": [
    {
     "name": "stdout",
     "output_type": "stream",
     "text": [
      "-1\n",
      "-1\n",
      "-3\n",
      "0\n"
     ]
    }
   ],
   "source": [
    "def find_negative(L):\n",
    "    for num in L:\n",
    "        if num < 0:\n",
    "            return num\n",
    "        \n",
    "    return 0\n",
    "\n",
    "#print(find_negative([-1,0]))\n",
    "#print(find_negative([0,-1]))\n",
    "#print(find_negative([-3,-2]))\n",
    "#print(find_negative([1,2]))"
   ]
  },
  {
   "cell_type": "markdown",
   "metadata": {},
   "source": [
    "## 練習問題2"
   ]
  },
  {
   "cell_type": "markdown",
   "metadata": {},
   "source": [
    "次の関数のホワイトボックステストのテストスイートを与えよ。\n",
    "```python\n",
    "def find_even(numbers):\n",
    "    position = 0\n",
    "    while position < len(numbers):\n",
    "        number = numbers[position]\n",
    "\tif number % 2 == 0:\n",
    "\t    print('Found even number', number)\n",
    "\t    break\n",
    "\tposition += 1\n",
    "    else:\n",
    "\tprint('No even number found')\n",
    "```"
   ]
  },
  {
   "cell_type": "code",
   "execution_count": 6,
   "metadata": {},
   "outputs": [],
   "source": [
    "def find_even(numbers):\n",
    "    position = 0\n",
    "    while position < len(numbers):\n",
    "        number = numbers[position]\n",
    "        if number % 2 == 0:\n",
    "            print('Found even number', number)\n",
    "            break\n",
    "        position += 1\n",
    "    else:\n",
    "        print('No even number found')"
   ]
  },
  {
   "cell_type": "code",
   "execution_count": 14,
   "metadata": {},
   "outputs": [
    {
     "name": "stdout",
     "output_type": "stream",
     "text": [
      "No even number found\n"
     ]
    }
   ],
   "source": [
    "find_even([])"
   ]
  },
  {
   "cell_type": "markdown",
   "metadata": {},
   "source": [
    "## 練習問題3"
   ]
  },
  {
   "cell_type": "markdown",
   "metadata": {},
   "source": [
    "try-exceptブロックを用いて、下の仕様にあった関数を実装せよ。\n",
    "```python\n",
    "def sumDigits(s):\n",
    "    \"\"\"sを文字列とする。\n",
    "       sの中の数字の合計を返す。\n",
    "       例えば、sが'a2b3c'ならば5を返す\"\"\"\n",
    "```"
   ]
  },
  {
   "cell_type": "code",
   "execution_count": 21,
   "metadata": {},
   "outputs": [],
   "source": [
    "def sumDigits(s):\n",
    "    \"\"\"sを文字列とする。\n",
    "       sの中の数字の合計を返す。\n",
    "       例えば、sが'a2b3c'ならば5を返す\"\"\"\n",
    "    sum = 0\n",
    "    for num in s:\n",
    "        try:\n",
    "            sum += int(num)\n",
    "        except ValueError:\n",
    "            pass\n",
    "    \n",
    "    return sum"
   ]
  },
  {
   "cell_type": "code",
   "execution_count": 22,
   "metadata": {},
   "outputs": [
    {
     "data": {
      "text/plain": [
       "5"
      ]
     },
     "execution_count": 22,
     "metadata": {},
     "output_type": "execute_result"
    }
   ],
   "source": [
    "sumDigits('a2b3c')"
   ]
  },
  {
   "cell_type": "markdown",
   "metadata": {},
   "source": [
    "## 練習問題4"
   ]
  },
  {
   "cell_type": "markdown",
   "metadata": {},
   "source": [
    "次の仕様を満たす関数を実装せよ。\n",
    "```python\n",
    "def findAnEven(L):\n",
    "    \"\"\"Lをint型の要素を持つリストとする\n",
    "       Lに最初に現れる偶数を返す\n",
    "       Lが偶数を含まなければValueErrorを引き起こす\"\"\"\n",
    "```"
   ]
  },
  {
   "cell_type": "code",
   "execution_count": 25,
   "metadata": {},
   "outputs": [],
   "source": [
    "def findAnEven(L):\n",
    "    \"\"\"Lをint型の要素を持つリストとする\n",
    "       Lに最初に現れる偶数を返す\n",
    "       Lが偶数を含まなければValueErrorを引き起こす\"\"\"\n",
    "    for num in L:\n",
    "        try:\n",
    "            if num%2 == 0:\n",
    "                return num\n",
    "            else:\n",
    "                continue\n",
    "        except ValueError:\n",
    "            continue\n",
    "    return ValueError('even number not exist')"
   ]
  },
  {
   "cell_type": "code",
   "execution_count": 26,
   "metadata": {},
   "outputs": [
    {
     "name": "stdout",
     "output_type": "stream",
     "text": [
      "2\n",
      "even number not exist\n",
      "even number not exist\n"
     ]
    }
   ],
   "source": [
    "try:\n",
    "    print(findAnEven([1,2,3]))\n",
    "    print(findAnEven([1,3,5]))\n",
    "    print(findAnEven([]))\n",
    "except ValueError as msg:\n",
    "    print(msg)"
   ]
  },
  {
   "cell_type": "markdown",
   "metadata": {},
   "source": [
    "## 練習問題5"
   ]
  },
  {
   "cell_type": "markdown",
   "metadata": {},
   "source": [
    "以下の関数gcdは、入力された２つの整数の最大公約数を求めるものである。 この関数が正しく「公約数」を求めていることを確認するassert文を追加せよ。 また、入力が仕様通りになっていることを確認し、そうでない場合は例外を発生させよ。\n",
    "```python\n",
    "def gcd(x, y):\n",
    "    \"\"\"xとyは正のint型とする。\n",
    "       xとyの最大公約数を返す。\"\"\"\n",
    "    while x != y:\n",
    "        if x > y:\n",
    "            return gcd(x-y, y)\n",
    "        else:\n",
    "            return gcd(x, y-x)\n",
    "    return x\n",
    "```"
   ]
  },
  {
   "cell_type": "code",
   "execution_count": 35,
   "metadata": {},
   "outputs": [],
   "source": [
    "def gcd(x, y):\n",
    "    \"\"\"xとyは正のint型とする。\n",
    "       xとyの最大公約数を返す。\"\"\"\n",
    "    assert type(x*y) is int and x*y > 0 and x > 0, \"Require two natural numbers\"  \n",
    "    while x != y:\n",
    "        if x > y:\n",
    "            return gcd(x-y, y)\n",
    "        else:\n",
    "            return gcd(x, y-x)\n",
    "    return x"
   ]
  },
  {
   "cell_type": "code",
   "execution_count": 36,
   "metadata": {},
   "outputs": [
    {
     "name": "stdout",
     "output_type": "stream",
     "text": [
      "1\n",
      "3\n"
     ]
    },
    {
     "ename": "AssertionError",
     "evalue": "Require two natural numbers",
     "output_type": "error",
     "traceback": [
      "\u001b[1;31m---------------------------------------------------------------------------\u001b[0m",
      "\u001b[1;31mAssertionError\u001b[0m                            Traceback (most recent call last)",
      "\u001b[1;32m<ipython-input-36-4e0463ca0634>\u001b[0m in \u001b[0;36m<module>\u001b[1;34m\u001b[0m\n\u001b[0;32m      1\u001b[0m \u001b[0mprint\u001b[0m\u001b[1;33m(\u001b[0m\u001b[0mgcd\u001b[0m\u001b[1;33m(\u001b[0m\u001b[1;36m1\u001b[0m\u001b[1;33m,\u001b[0m\u001b[1;36m2\u001b[0m\u001b[1;33m)\u001b[0m\u001b[1;33m)\u001b[0m\u001b[1;33m\u001b[0m\u001b[1;33m\u001b[0m\u001b[0m\n\u001b[0;32m      2\u001b[0m \u001b[0mprint\u001b[0m\u001b[1;33m(\u001b[0m\u001b[0mgcd\u001b[0m\u001b[1;33m(\u001b[0m\u001b[1;36m21\u001b[0m\u001b[1;33m,\u001b[0m\u001b[1;36m48\u001b[0m\u001b[1;33m)\u001b[0m\u001b[1;33m)\u001b[0m\u001b[1;33m\u001b[0m\u001b[1;33m\u001b[0m\u001b[0m\n\u001b[1;32m----> 3\u001b[1;33m \u001b[0mprint\u001b[0m\u001b[1;33m(\u001b[0m\u001b[0mgcd\u001b[0m\u001b[1;33m(\u001b[0m\u001b[1;33m-\u001b[0m\u001b[1;36m2\u001b[0m\u001b[1;33m,\u001b[0m\u001b[1;36m1\u001b[0m\u001b[1;33m)\u001b[0m\u001b[1;33m)\u001b[0m\u001b[1;33m\u001b[0m\u001b[1;33m\u001b[0m\u001b[0m\n\u001b[0m",
      "\u001b[1;32m<ipython-input-35-7354b4f6eaf9>\u001b[0m in \u001b[0;36mgcd\u001b[1;34m(x, y)\u001b[0m\n\u001b[0;32m      2\u001b[0m     \"\"\"xとyは正のint型とする。\n\u001b[0;32m      3\u001b[0m        xとyの最大公約数を返す。\"\"\"\n\u001b[1;32m----> 4\u001b[1;33m     \u001b[1;32massert\u001b[0m \u001b[0mtype\u001b[0m\u001b[1;33m(\u001b[0m\u001b[0mx\u001b[0m\u001b[1;33m*\u001b[0m\u001b[0my\u001b[0m\u001b[1;33m)\u001b[0m \u001b[1;32mis\u001b[0m \u001b[0mint\u001b[0m \u001b[1;32mand\u001b[0m \u001b[0mx\u001b[0m\u001b[1;33m*\u001b[0m\u001b[0my\u001b[0m \u001b[1;33m>\u001b[0m \u001b[1;36m0\u001b[0m \u001b[1;32mand\u001b[0m \u001b[0mx\u001b[0m \u001b[1;33m>\u001b[0m \u001b[1;36m0\u001b[0m\u001b[1;33m,\u001b[0m \u001b[1;34m\"Require two natural numbers\"\u001b[0m\u001b[1;33m\u001b[0m\u001b[1;33m\u001b[0m\u001b[0m\n\u001b[0m\u001b[0;32m      5\u001b[0m     \u001b[1;32mwhile\u001b[0m \u001b[0mx\u001b[0m \u001b[1;33m!=\u001b[0m \u001b[0my\u001b[0m\u001b[1;33m:\u001b[0m\u001b[1;33m\u001b[0m\u001b[1;33m\u001b[0m\u001b[0m\n\u001b[0;32m      6\u001b[0m         \u001b[1;32mif\u001b[0m \u001b[0mx\u001b[0m \u001b[1;33m>\u001b[0m \u001b[0my\u001b[0m\u001b[1;33m:\u001b[0m\u001b[1;33m\u001b[0m\u001b[1;33m\u001b[0m\u001b[0m\n",
      "\u001b[1;31mAssertionError\u001b[0m: Require two natural numbers"
     ]
    }
   ],
   "source": [
    "print(gcd(1,2))\n",
    "print(gcd(21,48))\n",
    "print(gcd(-2,1))"
   ]
  },
  {
   "cell_type": "code",
   "execution_count": null,
   "metadata": {},
   "outputs": [],
   "source": []
  }
 ],
 "metadata": {
  "kernelspec": {
   "display_name": "Python 3",
   "language": "python",
   "name": "python3"
  },
  "language_info": {
   "codemirror_mode": {
    "name": "ipython",
    "version": 3
   },
   "file_extension": ".py",
   "mimetype": "text/x-python",
   "name": "python",
   "nbconvert_exporter": "python",
   "pygments_lexer": "ipython3",
   "version": "3.8.5"
  }
 },
 "nbformat": 4,
 "nbformat_minor": 4
}
