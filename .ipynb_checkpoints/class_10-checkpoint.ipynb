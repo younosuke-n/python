{
 "cells": [
  {
   "cell_type": "code",
   "execution_count": 2,
   "id": "c6813563",
   "metadata": {},
   "outputs": [],
   "source": [
    "import numpy as np"
   ]
  },
  {
   "cell_type": "markdown",
   "id": "9947c1ab",
   "metadata": {},
   "source": [
    "## 練習問題1"
   ]
  },
  {
   "cell_type": "markdown",
   "id": "28c86201",
   "metadata": {},
   "source": [
    "arr = np.random.randn(4, 4)\n",
    "\n",
    "の各要素に対し、それが非負であれば平方根を、負であれば2乗したものからなる配列を求めよ。"
   ]
  },
  {
   "cell_type": "code",
   "execution_count": 7,
   "id": "98fb185b",
   "metadata": {},
   "outputs": [
    {
     "name": "stdout",
     "output_type": "stream",
     "text": [
      "[[-0.35880541  1.91691509  1.59881173 -0.07651845]\n",
      " [ 0.98861635 -0.16895395  1.28544261  0.57172693]\n",
      " [-0.20310036 -0.98275053  2.66223708 -0.06717607]\n",
      " [ 0.71208281  0.70272516 -0.00429917  0.92856346]]\n"
     ]
    },
    {
     "name": "stderr",
     "output_type": "stream",
     "text": [
      "<ipython-input-7-094b1874c74e>:4: RuntimeWarning: invalid value encountered in sqrt\n",
      "  np.where(arr > 0, np.sqrt(arr), arr**2)\n"
     ]
    },
    {
     "data": {
      "text/plain": [
       "array([[1.28741322e-01, 1.38452703e+00, 1.26444127e+00, 5.85507274e-03],\n",
       "       [9.94291885e-01, 2.85454356e-02, 1.13377362e+00, 7.56126263e-01],\n",
       "       [4.12497547e-02, 9.65798607e-01, 1.63163632e+00, 4.51262438e-03],\n",
       "       [8.43849993e-01, 8.38287039e-01, 1.84828286e-05, 9.63619975e-01]])"
      ]
     },
     "execution_count": 7,
     "metadata": {},
     "output_type": "execute_result"
    }
   ],
   "source": [
    "arr = np.random.randn(4, 4)\n",
    "print(arr)\n",
    "np.where(arr > 0, np.sqrt(arr), arr**2)"
   ]
  },
  {
   "cell_type": "markdown",
   "id": "bbe4b5a4",
   "metadata": {},
   "source": [
    "## 練習問題2"
   ]
  },
  {
   "cell_type": "markdown",
   "id": "537adf0a",
   "metadata": {},
   "source": [
    "ランダムに10×5の大きさの行列arrを作成し、各要素に対し、それがその列の平均値よりも大きい要素を1, そうでない要素を0に変換せよ。"
   ]
  },
  {
   "cell_type": "code",
   "execution_count": 4,
   "id": "bf1866d8",
   "metadata": {},
   "outputs": [
    {
     "name": "stdout",
     "output_type": "stream",
     "text": [
      "[[-0.77402985 -0.05026538  0.49180588 -0.71799776  1.13959334]\n",
      " [ 0.86605988  0.75440062  0.47726432  0.32394154  1.78357418]\n",
      " [ 1.56145849 -1.26088536 -0.72433661 -0.60360293  0.08470339]\n",
      " [ 0.16597582 -1.22350671  0.53405044 -0.80888768 -0.01292303]\n",
      " [ 0.51653556  1.70121592  0.72055691 -0.54843256  0.2719613 ]\n",
      " [ 1.12560576 -1.60696517  1.58324297 -0.24405676  0.59082188]\n",
      " [-0.54716323 -1.80027423  0.08441595 -1.14661267  0.59498614]\n",
      " [-0.52840083  0.18071162 -0.37107019 -0.22741832 -0.24631605]\n",
      " [ 1.22244813 -0.24163592 -0.40502737 -0.77987094 -1.1054573 ]\n",
      " [ 0.20674432 -0.85275615  0.36520668 -0.23614139 -0.72350561]]\n",
      "[ 0.3815234  -0.43999608  0.2756109  -0.49890795  0.23774382]\n"
     ]
    },
    {
     "data": {
      "text/plain": [
       "array([[0, 1, 1, 0, 1],\n",
       "       [1, 1, 1, 1, 1],\n",
       "       [1, 0, 0, 0, 0],\n",
       "       [0, 0, 1, 0, 0],\n",
       "       [1, 1, 1, 0, 1],\n",
       "       [1, 0, 1, 1, 1],\n",
       "       [0, 0, 0, 0, 1],\n",
       "       [0, 1, 0, 1, 0],\n",
       "       [1, 1, 0, 0, 0],\n",
       "       [0, 0, 1, 1, 0]])"
      ]
     },
     "execution_count": 4,
     "metadata": {},
     "output_type": "execute_result"
    }
   ],
   "source": [
    "arr = np.random.randn(10, 5)\n",
    "print(arr)\n",
    "print(arr.mean(axis=0))\n",
    "\n",
    "np.where(arr > arr.mean(axis=0), 1, 0)"
   ]
  },
  {
   "cell_type": "markdown",
   "id": "e0438fdf",
   "metadata": {},
   "source": [
    "## 練習問題3"
   ]
  },
  {
   "cell_type": "markdown",
   "id": "586de74c",
   "metadata": {},
   "source": [
    "長さ1000のランダムな配列を作り、その5パーセンタイル分位点を求めよ。\n",
    "\n",
    "ヒント. ソートしてから5パーセントに当たる要素の値を得る。"
   ]
  },
  {
   "cell_type": "code",
   "execution_count": 39,
   "id": "1feee43b",
   "metadata": {},
   "outputs": [
    {
     "name": "stdout",
     "output_type": "stream",
     "text": [
      "-1.6739022688406742\n"
     ]
    }
   ],
   "source": [
    "arr = np.random.randn(1000)\n",
    "arr.sort()\n",
    "\n",
    "place = (1000+1) * 5 / 100\n",
    "\n",
    "print(arr[int(place)] + (place - int(place)) * (arr[int(place)+1] - arr[int(place)]))"
   ]
  },
  {
   "cell_type": "markdown",
   "id": "3dc9fdcd",
   "metadata": {},
   "source": [
    "## 練習問題4"
   ]
  },
  {
   "cell_type": "markdown",
   "id": "a563448d",
   "metadata": {},
   "source": [
    "行列\n",
    "$\n",
    "  A = \\left[\n",
    "      \\begin{array}{ccc}\n",
    "      1 & 2 & 3 \\\\\n",
    "      0 & 4 & 0 \\\\\n",
    "      0 & 5 & 6 \\\\\n",
    "      \\end{array}\n",
    "      \\right]\n",
    "$\n",
    "の固有値と固有ベクトルを求めよ。"
   ]
  },
  {
   "cell_type": "code",
   "execution_count": 40,
   "id": "2a949c1c",
   "metadata": {},
   "outputs": [],
   "source": [
    "from numpy import linalg as la"
   ]
  },
  {
   "cell_type": "code",
   "execution_count": 42,
   "id": "530be84c",
   "metadata": {},
   "outputs": [
    {
     "name": "stdout",
     "output_type": "stream",
     "text": [
      "[1. 6. 4.]\n",
      "[[ 1.          0.51449576 -0.56280896]\n",
      " [ 0.          0.          0.30698671]\n",
      " [ 0.          0.85749293 -0.76746677]]\n"
     ]
    }
   ],
   "source": [
    "A = np.array([[1, 2, 3],\n",
    "             [0, 4, 0],\n",
    "             [0, 5, 6]])\n",
    "w, v = la.eig(A)\n",
    "\n",
    "print(w)\n",
    "print(v)"
   ]
  },
  {
   "cell_type": "code",
   "execution_count": null,
   "id": "b59266cb",
   "metadata": {},
   "outputs": [],
   "source": []
  }
 ],
 "metadata": {
  "kernelspec": {
   "display_name": "Python 3",
   "language": "python",
   "name": "python3"
  },
  "language_info": {
   "codemirror_mode": {
    "name": "ipython",
    "version": 3
   },
   "file_extension": ".py",
   "mimetype": "text/x-python",
   "name": "python",
   "nbconvert_exporter": "python",
   "pygments_lexer": "ipython3",
   "version": "3.8.10"
  }
 },
 "nbformat": 4,
 "nbformat_minor": 5
}
