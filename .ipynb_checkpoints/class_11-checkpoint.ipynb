{
 "cells": [
  {
   "cell_type": "markdown",
   "id": "eaed706f",
   "metadata": {},
   "source": [
    "# pandasによるデータ処理1"
   ]
  },
  {
   "cell_type": "code",
   "execution_count": 2,
   "id": "79fa586b",
   "metadata": {},
   "outputs": [],
   "source": [
    "import numpy as np\n",
    "import pandas as pd\n",
    "from pandas import Series, DataFrame"
   ]
  },
  {
   "cell_type": "markdown",
   "id": "17aac768",
   "metadata": {},
   "source": [
    "## 練習問題1"
   ]
  },
  {
   "cell_type": "markdown",
   "id": "34578013",
   "metadata": {},
   "source": [
    "以下のようなシリーズを作れ。\n",
    "\n",
    "prefecture <br>\n",
    "Fukuoka      5107 <br>\n",
    "Saga          819 <br>\n",
    "Nagasaki     1341 <br>\n",
    "Kumamoto     1757 <br>\n",
    "Oita         1144 <br>\n",
    "Miyazaki     1081 <br>\n",
    "Kagoshima    1614 <br>\n",
    "Name: population, dtype: int64"
   ]
  },
  {
   "cell_type": "code",
   "execution_count": 4,
   "id": "76880821",
   "metadata": {},
   "outputs": [
    {
     "data": {
      "text/plain": [
       "prefecture\n",
       "Fukuoka      5107\n",
       "Saga          819\n",
       "Nagasaki     1341\n",
       "Kumamoto     1757\n",
       "Oita         1144\n",
       "Miyazaki     1081\n",
       "Kagoshima    1614\n",
       "Name: population, dtype: int64"
      ]
     },
     "execution_count": 4,
     "metadata": {},
     "output_type": "execute_result"
    }
   ],
   "source": [
    "prefecture = pd.Series([5107, 819, 1341, 1757, 1144, 1081, 1614], index=['Fukuoka', 'Saga', 'Nagasaki', 'Kumamoto', 'Oita', 'Miyazaki', 'Kagoshima'])\n",
    "\n",
    "prefecture.name = 'population'\n",
    "prefecture.index.name = 'prefecture'\n",
    "\n",
    "prefecture"
   ]
  },
  {
   "cell_type": "markdown",
   "id": "16267cc6",
   "metadata": {},
   "source": [
    "## 練習問題2"
   ]
  },
  {
   "cell_type": "markdown",
   "id": "c707da91",
   "metadata": {},
   "source": [
    "以下のようなデータフレームを作れ。\n",
    "\n",
    "<table>\n",
    "    <tr>\n",
    "        <th></th>\n",
    "        <th>Fukuoka</th>\n",
    "        <th>Saga</th>\n",
    "        <th>Nagasaki</th>\n",
    "        <th>Kumamoto</th>\n",
    "        <th>Oita</th>\n",
    "        <th>Miyazaki</th>\n",
    "        <th>Kagoshima</th>\n",
    "    </tr>\n",
    "    <tr>\n",
    "        <th>pop</th>\n",
    "        <td>5107.0</td>\n",
    "        <td>819.0</td>\n",
    "        <td>1341.0</td>\n",
    "        <td>1757.0</td>\n",
    "        <td>1144.0</td>\n",
    "        <td>1081.0</td>\n",
    "        <td>1614.0</td>\n",
    "    </tr>\n",
    "    <tr>\n",
    "        <th>sr</th>\n",
    "        <td>89.8</td>\n",
    "        <td>89.8</td>\n",
    "        <td>88.8</td>\n",
    "        <td>89.4</td>\n",
    "        <td>90.0</td>\n",
    "        <td>88.9</td>\n",
    "        <td>88.6</td>\n",
    "    </tr>\n",
    "    <tr>\n",
    "        <th>idr</th>\n",
    "        <td>0.1</td>\n",
    "        <td>-5.5</td>\n",
    "        <td>-9.9</td>\n",
    "        <td>-4.8</td>\n",
    "        <td>-7.5</td>\n",
    "        <td>-7.4</td>\n",
    "        <td>-7.0</td>\n",
    "    </tr>\n",
    "</table>"
   ]
  },
  {
   "cell_type": "code",
   "execution_count": 1,
   "id": "d93a4a1b",
   "metadata": {},
   "outputs": [
    {
     "ename": "NameError",
     "evalue": "name 'pd' is not defined",
     "output_type": "error",
     "traceback": [
      "\u001b[1;31m---------------------------------------------------------------------------\u001b[0m",
      "\u001b[1;31mNameError\u001b[0m                                 Traceback (most recent call last)",
      "\u001b[1;32m<ipython-input-1-e1f5c75b5e70>\u001b[0m in \u001b[0;36m<module>\u001b[1;34m\u001b[0m\n\u001b[0;32m      6\u001b[0m        \u001b[1;34m'Miyazaki'\u001b[0m\u001b[1;33m:\u001b[0m \u001b[1;33m[\u001b[0m\u001b[1;36m1081.0\u001b[0m\u001b[1;33m,\u001b[0m \u001b[1;36m88.9\u001b[0m\u001b[1;33m,\u001b[0m \u001b[1;33m-\u001b[0m\u001b[1;36m7.4\u001b[0m\u001b[1;33m]\u001b[0m\u001b[1;33m,\u001b[0m\u001b[0;31m \u001b[0m\u001b[0;31m\\\u001b[0m\u001b[1;33m\u001b[0m\u001b[1;33m\u001b[0m\u001b[0m\n\u001b[0;32m      7\u001b[0m        'Kagoshima': [1614.0, 88.6, -7.0]}\n\u001b[1;32m----> 8\u001b[1;33m \u001b[0mframe\u001b[0m \u001b[1;33m=\u001b[0m \u001b[0mpd\u001b[0m\u001b[1;33m.\u001b[0m\u001b[0mDataFrame\u001b[0m\u001b[1;33m(\u001b[0m\u001b[0mdata\u001b[0m\u001b[1;33m,\u001b[0m \u001b[0mindex\u001b[0m\u001b[1;33m=\u001b[0m\u001b[1;33m[\u001b[0m\u001b[1;34m'pop'\u001b[0m\u001b[1;33m,\u001b[0m \u001b[1;34m'sr'\u001b[0m\u001b[1;33m,\u001b[0m \u001b[1;34m'idr'\u001b[0m\u001b[1;33m]\u001b[0m\u001b[1;33m)\u001b[0m\u001b[1;33m\u001b[0m\u001b[1;33m\u001b[0m\u001b[0m\n\u001b[0m\u001b[0;32m      9\u001b[0m \u001b[0mframe\u001b[0m \u001b[1;33m=\u001b[0m \u001b[0mpd\u001b[0m\u001b[1;33m.\u001b[0m\u001b[0mDataFrame\u001b[0m\u001b[1;33m(\u001b[0m\u001b[0mframe\u001b[0m\u001b[1;33m)\u001b[0m\u001b[1;33m\u001b[0m\u001b[1;33m\u001b[0m\u001b[0m\n",
      "\u001b[1;31mNameError\u001b[0m: name 'pd' is not defined"
     ]
    }
   ],
   "source": [
    "data = {'Fukuoka': [5107.0, 89.8, 0.1], \\\n",
    "       'Saga': [819.0, 89.8, -5.5], \\\n",
    "       'Nagasaki': [1341.0, 88.8, -9.9], \\\n",
    "       'Kumamoto': [1757.0, 89.4, -4.8], \\\n",
    "       'Oita': [1144.0, 90.0, -7.5], \\\n",
    "       'Miyazaki': [1081.0, 88.9, -7.4], \\\n",
    "       'Kagoshima': [1614.0, 88.6, -7.0]}\n",
    "frame = pd.DataFrame(data, index=['pop', 'sr', 'idr'])\n",
    "frame"
   ]
  },
  {
   "cell_type": "markdown",
   "id": "88a912bc",
   "metadata": {},
   "source": [
    "## 練習問題3"
   ]
  },
  {
   "cell_type": "markdown",
   "id": "e8600147",
   "metadata": {},
   "source": [
    "上記のframeにおいて、以下のように再インデックス付けせよ。\n",
    "\n",
    "<table>\n",
    "    <tr>\n",
    "        <th></th>\n",
    "        <th>California</th>\n",
    "        <th>Ohio</th>\n",
    "        <th>Washington</th>\n",
    "    </tr>\n",
    "    <tr>\n",
    "        <th>a</th>\n",
    "        <td>2.0</td>\n",
    "        <td>0.0</td>\n",
    "        <td>NaN</td>\n",
    "    </tr>\n",
    "    <tr>\n",
    "        <th>c</th>\n",
    "        <td>5.0</td>\n",
    "        <td>3.0</td>\n",
    "        <td>NaN</td>\n",
    "    </tr>\n",
    "    <tr>\n",
    "        <th>d</th>\n",
    "        <td>8.0</td>\n",
    "        <td>6.0</td>\n",
    "        <td>NaN</td>\n",
    "    </tr>\n",
    "    <tr>\n",
    "        <th>x</th>\n",
    "        <td>NaN</td>\n",
    "        <td>NaN</td>\n",
    "        <td>NaN</td>\n",
    "    </tr>\n",
    "</table>"
   ]
  },
  {
   "cell_type": "code",
   "execution_count": 8,
   "id": "4f4ed013",
   "metadata": {},
   "outputs": [
    {
     "data": {
      "text/html": [
       "<div>\n",
       "<style scoped>\n",
       "    .dataframe tbody tr th:only-of-type {\n",
       "        vertical-align: middle;\n",
       "    }\n",
       "\n",
       "    .dataframe tbody tr th {\n",
       "        vertical-align: top;\n",
       "    }\n",
       "\n",
       "    .dataframe thead th {\n",
       "        text-align: right;\n",
       "    }\n",
       "</style>\n",
       "<table border=\"1\" class=\"dataframe\">\n",
       "  <thead>\n",
       "    <tr style=\"text-align: right;\">\n",
       "      <th></th>\n",
       "      <th>California</th>\n",
       "      <th>Ohio</th>\n",
       "      <th>Washington</th>\n",
       "    </tr>\n",
       "  </thead>\n",
       "  <tbody>\n",
       "    <tr>\n",
       "      <th>a</th>\n",
       "      <td>2.0</td>\n",
       "      <td>0.0</td>\n",
       "      <td>NaN</td>\n",
       "    </tr>\n",
       "    <tr>\n",
       "      <th>c</th>\n",
       "      <td>5.0</td>\n",
       "      <td>3.0</td>\n",
       "      <td>NaN</td>\n",
       "    </tr>\n",
       "    <tr>\n",
       "      <th>d</th>\n",
       "      <td>8.0</td>\n",
       "      <td>6.0</td>\n",
       "      <td>NaN</td>\n",
       "    </tr>\n",
       "    <tr>\n",
       "      <th>x</th>\n",
       "      <td>NaN</td>\n",
       "      <td>NaN</td>\n",
       "      <td>NaN</td>\n",
       "    </tr>\n",
       "  </tbody>\n",
       "</table>\n",
       "</div>"
      ],
      "text/plain": [
       "   California  Ohio  Washington\n",
       "a         2.0   0.0         NaN\n",
       "c         5.0   3.0         NaN\n",
       "d         8.0   6.0         NaN\n",
       "x         NaN   NaN         NaN"
      ]
     },
     "execution_count": 8,
     "metadata": {},
     "output_type": "execute_result"
    }
   ],
   "source": [
    "frame = pd.DataFrame(np.arange(9).reshape((3,3)),\n",
    "                    index=['a', 'c', 'd'],\n",
    "                    columns=['Ohio', 'Texas', 'California'])\n",
    "states = ['California', 'Ohio', 'Washington']\n",
    "\n",
    "frame.reindex(index=['a', 'c', 'd', 'x'], columns=states)"
   ]
  },
  {
   "cell_type": "markdown",
   "id": "63ac4232",
   "metadata": {},
   "source": [
    "## 練習問題4"
   ]
  },
  {
   "cell_type": "markdown",
   "id": "972db4c4",
   "metadata": {},
   "source": [
    "上記のデータフレームdataにおいて、以下のように軸を削除せよ。\n",
    "\n",
    "<table>\n",
    "    <tr>\n",
    "        <th></th>\n",
    "        <th>one</th>\n",
    "        <th>three</th>\n",
    "        <th>four</th>\n",
    "    </tr>\n",
    "    <tr>\n",
    "        <th>Ohio</th>\n",
    "        <td>0</td>\n",
    "        <td>2</td>\n",
    "        <td>3</td>\n",
    "    </tr>\n",
    "    <tr>\n",
    "        <th>New York</th>\n",
    "        <td>12</td>\n",
    "        <td>14</td>\n",
    "        <td>15</td>\n",
    "    </tr>\n",
    "</table>"
   ]
  },
  {
   "cell_type": "code",
   "execution_count": 13,
   "id": "168db701",
   "metadata": {},
   "outputs": [
    {
     "data": {
      "text/html": [
       "<div>\n",
       "<style scoped>\n",
       "    .dataframe tbody tr th:only-of-type {\n",
       "        vertical-align: middle;\n",
       "    }\n",
       "\n",
       "    .dataframe tbody tr th {\n",
       "        vertical-align: top;\n",
       "    }\n",
       "\n",
       "    .dataframe thead th {\n",
       "        text-align: right;\n",
       "    }\n",
       "</style>\n",
       "<table border=\"1\" class=\"dataframe\">\n",
       "  <thead>\n",
       "    <tr style=\"text-align: right;\">\n",
       "      <th></th>\n",
       "      <th>one</th>\n",
       "      <th>three</th>\n",
       "      <th>four</th>\n",
       "    </tr>\n",
       "  </thead>\n",
       "  <tbody>\n",
       "    <tr>\n",
       "      <th>Ohio</th>\n",
       "      <td>0</td>\n",
       "      <td>2</td>\n",
       "      <td>3</td>\n",
       "    </tr>\n",
       "    <tr>\n",
       "      <th>New York</th>\n",
       "      <td>12</td>\n",
       "      <td>14</td>\n",
       "      <td>15</td>\n",
       "    </tr>\n",
       "  </tbody>\n",
       "</table>\n",
       "</div>"
      ],
      "text/plain": [
       "          one  three  four\n",
       "Ohio        0      2     3\n",
       "New York   12     14    15"
      ]
     },
     "execution_count": 13,
     "metadata": {},
     "output_type": "execute_result"
    }
   ],
   "source": [
    "data = pd.DataFrame(np.arange(16).reshape((4, 4)),\n",
    "                    index=['Ohio', 'Colorado', 'Utah', 'New York'],\n",
    "                    columns=['one', 'two', 'three', 'four'])\n",
    "data.drop(['Colorado', 'Utah'], inplace=True)\n",
    "data.drop('two', axis=1, inplace=True)\n",
    "data"
   ]
  },
  {
   "cell_type": "markdown",
   "id": "c35e345d",
   "metadata": {},
   "source": [
    "## 練習問題5"
   ]
  },
  {
   "cell_type": "code",
   "execution_count": 15,
   "id": "c5d765b4",
   "metadata": {},
   "outputs": [
    {
     "data": {
      "text/plain": [
       "d    3\n",
       "g    6\n",
       "a    0\n",
       "c    2\n",
       "dtype: int32"
      ]
     },
     "execution_count": 15,
     "metadata": {},
     "output_type": "execute_result"
    }
   ],
   "source": [
    "ser = pd.Series(np.arange(10), index=['a', 'b', 'c', 'd', 'e', 'f', 'g', 'h', 'i', 'j'])\n",
    "ser[['d', 'g', 'a', 'c']]"
   ]
  },
  {
   "cell_type": "markdown",
   "id": "f3155a02",
   "metadata": {},
   "source": [
    "## 練習問題6"
   ]
  },
  {
   "cell_type": "markdown",
   "id": "00772289",
   "metadata": {},
   "source": [
    "上記のデータフレームdataにおいて、以下のようにデータを抽出せよ。\n",
    "\n",
    "<table>\n",
    "    <tr>\n",
    "        <th></th>\n",
    "        <th>four</th>\n",
    "        <th>two</th>\n",
    "        <th>three</th>\n",
    "    </tr>\n",
    "    <tr>\n",
    "        <th>Ohio</th>\n",
    "        <td>0</td>\n",
    "        <td>0</td>\n",
    "        <td>0</td>\n",
    "    </tr>\n",
    "    <tr>\n",
    "        <th>New York</th>\n",
    "        <td>15</td>\n",
    "        <td>13</td>\n",
    "        <td>14</td>\n",
    "    </tr>\n",
    "</table>"
   ]
  },
  {
   "cell_type": "code",
   "execution_count": 26,
   "id": "ed65204f",
   "metadata": {},
   "outputs": [
    {
     "data": {
      "text/html": [
       "<div>\n",
       "<style scoped>\n",
       "    .dataframe tbody tr th:only-of-type {\n",
       "        vertical-align: middle;\n",
       "    }\n",
       "\n",
       "    .dataframe tbody tr th {\n",
       "        vertical-align: top;\n",
       "    }\n",
       "\n",
       "    .dataframe thead th {\n",
       "        text-align: right;\n",
       "    }\n",
       "</style>\n",
       "<table border=\"1\" class=\"dataframe\">\n",
       "  <thead>\n",
       "    <tr style=\"text-align: right;\">\n",
       "      <th></th>\n",
       "      <th>four</th>\n",
       "      <th>two</th>\n",
       "      <th>three</th>\n",
       "    </tr>\n",
       "  </thead>\n",
       "  <tbody>\n",
       "    <tr>\n",
       "      <th>Ohio</th>\n",
       "      <td>0</td>\n",
       "      <td>0</td>\n",
       "      <td>0</td>\n",
       "    </tr>\n",
       "    <tr>\n",
       "      <th>New York</th>\n",
       "      <td>15</td>\n",
       "      <td>13</td>\n",
       "      <td>14</td>\n",
       "    </tr>\n",
       "  </tbody>\n",
       "</table>\n",
       "</div>"
      ],
      "text/plain": [
       "          four  two  three\n",
       "Ohio         0    0      0\n",
       "New York    15   13     14"
      ]
     },
     "execution_count": 26,
     "metadata": {},
     "output_type": "execute_result"
    }
   ],
   "source": [
    "data = pd.DataFrame(np.arange(16).reshape((4, 4)),\n",
    "                    index=['Ohio', 'Colorado', 'Utah', 'New York'],\n",
    "                    columns=['one', 'two', 'three', 'four'])\n",
    "data[data<5] = 0\n",
    "data.loc[['Ohio', 'New York'], ['four', 'two', 'three']]\n",
    "# data.iloc[[0,3], [3,1,2]][data>4]"
   ]
  },
  {
   "cell_type": "markdown",
   "id": "bf9b5e53",
   "metadata": {},
   "source": [
    "## 練習問題7"
   ]
  },
  {
   "cell_type": "markdown",
   "id": "4441a00f",
   "metadata": {},
   "source": [
    "上記のdf1とdf2に対し、欠損値を1としたうえで要素ごとの積を取ったデータフレームを求めよ。"
   ]
  },
  {
   "cell_type": "code",
   "execution_count": 31,
   "id": "98ed06a1",
   "metadata": {},
   "outputs": [
    {
     "data": {
      "text/html": [
       "<div>\n",
       "<style scoped>\n",
       "    .dataframe tbody tr th:only-of-type {\n",
       "        vertical-align: middle;\n",
       "    }\n",
       "\n",
       "    .dataframe tbody tr th {\n",
       "        vertical-align: top;\n",
       "    }\n",
       "\n",
       "    .dataframe thead th {\n",
       "        text-align: right;\n",
       "    }\n",
       "</style>\n",
       "<table border=\"1\" class=\"dataframe\">\n",
       "  <thead>\n",
       "    <tr style=\"text-align: right;\">\n",
       "      <th></th>\n",
       "      <th>a</th>\n",
       "      <th>b</th>\n",
       "      <th>c</th>\n",
       "      <th>d</th>\n",
       "    </tr>\n",
       "  </thead>\n",
       "  <tbody>\n",
       "    <tr>\n",
       "      <th>0</th>\n",
       "      <td>0.0</td>\n",
       "      <td>1.0</td>\n",
       "      <td>2.0</td>\n",
       "      <td>3.0</td>\n",
       "    </tr>\n",
       "    <tr>\n",
       "      <th>1</th>\n",
       "      <td>4.0</td>\n",
       "      <td>5.0</td>\n",
       "      <td>6.0</td>\n",
       "      <td>7.0</td>\n",
       "    </tr>\n",
       "    <tr>\n",
       "      <th>2</th>\n",
       "      <td>8.0</td>\n",
       "      <td>9.0</td>\n",
       "      <td>10.0</td>\n",
       "      <td>11.0</td>\n",
       "    </tr>\n",
       "  </tbody>\n",
       "</table>\n",
       "</div>"
      ],
      "text/plain": [
       "     a    b     c     d\n",
       "0  0.0  1.0   2.0   3.0\n",
       "1  4.0  5.0   6.0   7.0\n",
       "2  8.0  9.0  10.0  11.0"
      ]
     },
     "execution_count": 31,
     "metadata": {},
     "output_type": "execute_result"
    }
   ],
   "source": [
    "df1 = pd.DataFrame(np.arange(12.).reshape((3,4)), columns=list('abcd'))\n",
    "df1"
   ]
  },
  {
   "cell_type": "code",
   "execution_count": 32,
   "id": "fc05437a",
   "metadata": {},
   "outputs": [
    {
     "data": {
      "text/html": [
       "<div>\n",
       "<style scoped>\n",
       "    .dataframe tbody tr th:only-of-type {\n",
       "        vertical-align: middle;\n",
       "    }\n",
       "\n",
       "    .dataframe tbody tr th {\n",
       "        vertical-align: top;\n",
       "    }\n",
       "\n",
       "    .dataframe thead th {\n",
       "        text-align: right;\n",
       "    }\n",
       "</style>\n",
       "<table border=\"1\" class=\"dataframe\">\n",
       "  <thead>\n",
       "    <tr style=\"text-align: right;\">\n",
       "      <th></th>\n",
       "      <th>a</th>\n",
       "      <th>b</th>\n",
       "      <th>c</th>\n",
       "      <th>d</th>\n",
       "      <th>e</th>\n",
       "    </tr>\n",
       "  </thead>\n",
       "  <tbody>\n",
       "    <tr>\n",
       "      <th>0</th>\n",
       "      <td>0.0</td>\n",
       "      <td>1.0</td>\n",
       "      <td>2.0</td>\n",
       "      <td>3.0</td>\n",
       "      <td>4.0</td>\n",
       "    </tr>\n",
       "    <tr>\n",
       "      <th>1</th>\n",
       "      <td>5.0</td>\n",
       "      <td>6.0</td>\n",
       "      <td>7.0</td>\n",
       "      <td>8.0</td>\n",
       "      <td>9.0</td>\n",
       "    </tr>\n",
       "    <tr>\n",
       "      <th>2</th>\n",
       "      <td>10.0</td>\n",
       "      <td>11.0</td>\n",
       "      <td>12.0</td>\n",
       "      <td>13.0</td>\n",
       "      <td>14.0</td>\n",
       "    </tr>\n",
       "    <tr>\n",
       "      <th>3</th>\n",
       "      <td>15.0</td>\n",
       "      <td>16.0</td>\n",
       "      <td>17.0</td>\n",
       "      <td>18.0</td>\n",
       "      <td>19.0</td>\n",
       "    </tr>\n",
       "  </tbody>\n",
       "</table>\n",
       "</div>"
      ],
      "text/plain": [
       "      a     b     c     d     e\n",
       "0   0.0   1.0   2.0   3.0   4.0\n",
       "1   5.0   6.0   7.0   8.0   9.0\n",
       "2  10.0  11.0  12.0  13.0  14.0\n",
       "3  15.0  16.0  17.0  18.0  19.0"
      ]
     },
     "execution_count": 32,
     "metadata": {},
     "output_type": "execute_result"
    }
   ],
   "source": [
    "df2 = pd.DataFrame(np.arange(20.).reshape((4,5)), columns=list('abcde'))\n",
    "df2"
   ]
  },
  {
   "cell_type": "code",
   "execution_count": 33,
   "id": "22a564df",
   "metadata": {},
   "outputs": [
    {
     "data": {
      "text/html": [
       "<div>\n",
       "<style scoped>\n",
       "    .dataframe tbody tr th:only-of-type {\n",
       "        vertical-align: middle;\n",
       "    }\n",
       "\n",
       "    .dataframe tbody tr th {\n",
       "        vertical-align: top;\n",
       "    }\n",
       "\n",
       "    .dataframe thead th {\n",
       "        text-align: right;\n",
       "    }\n",
       "</style>\n",
       "<table border=\"1\" class=\"dataframe\">\n",
       "  <thead>\n",
       "    <tr style=\"text-align: right;\">\n",
       "      <th></th>\n",
       "      <th>a</th>\n",
       "      <th>b</th>\n",
       "      <th>c</th>\n",
       "      <th>d</th>\n",
       "      <th>e</th>\n",
       "    </tr>\n",
       "  </thead>\n",
       "  <tbody>\n",
       "    <tr>\n",
       "      <th>0</th>\n",
       "      <td>0.0</td>\n",
       "      <td>1.0</td>\n",
       "      <td>4.0</td>\n",
       "      <td>9.0</td>\n",
       "      <td>4.0</td>\n",
       "    </tr>\n",
       "    <tr>\n",
       "      <th>1</th>\n",
       "      <td>20.0</td>\n",
       "      <td>30.0</td>\n",
       "      <td>42.0</td>\n",
       "      <td>56.0</td>\n",
       "      <td>9.0</td>\n",
       "    </tr>\n",
       "    <tr>\n",
       "      <th>2</th>\n",
       "      <td>80.0</td>\n",
       "      <td>99.0</td>\n",
       "      <td>120.0</td>\n",
       "      <td>143.0</td>\n",
       "      <td>14.0</td>\n",
       "    </tr>\n",
       "    <tr>\n",
       "      <th>3</th>\n",
       "      <td>15.0</td>\n",
       "      <td>16.0</td>\n",
       "      <td>17.0</td>\n",
       "      <td>18.0</td>\n",
       "      <td>19.0</td>\n",
       "    </tr>\n",
       "  </tbody>\n",
       "</table>\n",
       "</div>"
      ],
      "text/plain": [
       "      a     b      c      d     e\n",
       "0   0.0   1.0    4.0    9.0   4.0\n",
       "1  20.0  30.0   42.0   56.0   9.0\n",
       "2  80.0  99.0  120.0  143.0  14.0\n",
       "3  15.0  16.0   17.0   18.0  19.0"
      ]
     },
     "execution_count": 33,
     "metadata": {},
     "output_type": "execute_result"
    }
   ],
   "source": [
    "df1.mul(df2, fill_value=1)"
   ]
  },
  {
   "cell_type": "markdown",
   "id": "6f9fa69c",
   "metadata": {},
   "source": [
    "## 練習問題8"
   ]
  },
  {
   "cell_type": "markdown",
   "id": "a3de854c",
   "metadata": {},
   "source": [
    "df = pd.DataFrame(np.arange(12.).reshape((3,4)), columns=list('abcd')) <br>\n",
    "に対し、以下の数列をシリーズとして定義したうえで行方向にブロードキャストで加算せよ。<br>\n",
    "\n",
    "-6.0 3.0 -5.0 1.0"
   ]
  },
  {
   "cell_type": "code",
   "execution_count": 3,
   "id": "9004afb8",
   "metadata": {},
   "outputs": [
    {
     "data": {
      "text/html": [
       "<div>\n",
       "<style scoped>\n",
       "    .dataframe tbody tr th:only-of-type {\n",
       "        vertical-align: middle;\n",
       "    }\n",
       "\n",
       "    .dataframe tbody tr th {\n",
       "        vertical-align: top;\n",
       "    }\n",
       "\n",
       "    .dataframe thead th {\n",
       "        text-align: right;\n",
       "    }\n",
       "</style>\n",
       "<table border=\"1\" class=\"dataframe\">\n",
       "  <thead>\n",
       "    <tr style=\"text-align: right;\">\n",
       "      <th></th>\n",
       "      <th>a</th>\n",
       "      <th>b</th>\n",
       "      <th>c</th>\n",
       "      <th>d</th>\n",
       "    </tr>\n",
       "  </thead>\n",
       "  <tbody>\n",
       "    <tr>\n",
       "      <th>0</th>\n",
       "      <td>0.0</td>\n",
       "      <td>1.0</td>\n",
       "      <td>2.0</td>\n",
       "      <td>3.0</td>\n",
       "    </tr>\n",
       "    <tr>\n",
       "      <th>1</th>\n",
       "      <td>4.0</td>\n",
       "      <td>5.0</td>\n",
       "      <td>6.0</td>\n",
       "      <td>7.0</td>\n",
       "    </tr>\n",
       "    <tr>\n",
       "      <th>2</th>\n",
       "      <td>8.0</td>\n",
       "      <td>9.0</td>\n",
       "      <td>10.0</td>\n",
       "      <td>11.0</td>\n",
       "    </tr>\n",
       "  </tbody>\n",
       "</table>\n",
       "</div>"
      ],
      "text/plain": [
       "     a    b     c     d\n",
       "0  0.0  1.0   2.0   3.0\n",
       "1  4.0  5.0   6.0   7.0\n",
       "2  8.0  9.0  10.0  11.0"
      ]
     },
     "execution_count": 3,
     "metadata": {},
     "output_type": "execute_result"
    }
   ],
   "source": [
    "df = pd.DataFrame(np.arange(12.).reshape((3,4)), columns=list('abcd'))\n",
    "df"
   ]
  },
  {
   "cell_type": "code",
   "execution_count": 4,
   "id": "3771d95d",
   "metadata": {},
   "outputs": [
    {
     "data": {
      "text/html": [
       "<div>\n",
       "<style scoped>\n",
       "    .dataframe tbody tr th:only-of-type {\n",
       "        vertical-align: middle;\n",
       "    }\n",
       "\n",
       "    .dataframe tbody tr th {\n",
       "        vertical-align: top;\n",
       "    }\n",
       "\n",
       "    .dataframe thead th {\n",
       "        text-align: right;\n",
       "    }\n",
       "</style>\n",
       "<table border=\"1\" class=\"dataframe\">\n",
       "  <thead>\n",
       "    <tr style=\"text-align: right;\">\n",
       "      <th></th>\n",
       "      <th>a</th>\n",
       "      <th>b</th>\n",
       "      <th>c</th>\n",
       "      <th>d</th>\n",
       "    </tr>\n",
       "  </thead>\n",
       "  <tbody>\n",
       "    <tr>\n",
       "      <th>0</th>\n",
       "      <td>-6.0</td>\n",
       "      <td>4.0</td>\n",
       "      <td>-3.0</td>\n",
       "      <td>4.0</td>\n",
       "    </tr>\n",
       "    <tr>\n",
       "      <th>1</th>\n",
       "      <td>-2.0</td>\n",
       "      <td>8.0</td>\n",
       "      <td>1.0</td>\n",
       "      <td>8.0</td>\n",
       "    </tr>\n",
       "    <tr>\n",
       "      <th>2</th>\n",
       "      <td>2.0</td>\n",
       "      <td>12.0</td>\n",
       "      <td>5.0</td>\n",
       "      <td>12.0</td>\n",
       "    </tr>\n",
       "  </tbody>\n",
       "</table>\n",
       "</div>"
      ],
      "text/plain": [
       "     a     b    c     d\n",
       "0 -6.0   4.0 -3.0   4.0\n",
       "1 -2.0   8.0  1.0   8.0\n",
       "2  2.0  12.0  5.0  12.0"
      ]
     },
     "execution_count": 4,
     "metadata": {},
     "output_type": "execute_result"
    }
   ],
   "source": [
    "series = np.array([-6.0, 3.0, -5.0, 1.0])\n",
    "df + series"
   ]
  },
  {
   "cell_type": "markdown",
   "id": "e540cbb3",
   "metadata": {},
   "source": [
    "## 練習問題9"
   ]
  },
  {
   "cell_type": "markdown",
   "id": "099d180b",
   "metadata": {},
   "source": [
    "ランダムな10×5の値からなるデータフレームを作り、各要素が正なら1, そうでなければ0としたデータフレームを求めよ。"
   ]
  },
  {
   "cell_type": "code",
   "execution_count": 41,
   "id": "d32590fb",
   "metadata": {},
   "outputs": [
    {
     "data": {
      "text/html": [
       "<div>\n",
       "<style scoped>\n",
       "    .dataframe tbody tr th:only-of-type {\n",
       "        vertical-align: middle;\n",
       "    }\n",
       "\n",
       "    .dataframe tbody tr th {\n",
       "        vertical-align: top;\n",
       "    }\n",
       "\n",
       "    .dataframe thead th {\n",
       "        text-align: right;\n",
       "    }\n",
       "</style>\n",
       "<table border=\"1\" class=\"dataframe\">\n",
       "  <thead>\n",
       "    <tr style=\"text-align: right;\">\n",
       "      <th></th>\n",
       "      <th>0</th>\n",
       "      <th>1</th>\n",
       "      <th>2</th>\n",
       "      <th>3</th>\n",
       "      <th>4</th>\n",
       "    </tr>\n",
       "  </thead>\n",
       "  <tbody>\n",
       "    <tr>\n",
       "      <th>0</th>\n",
       "      <td>1.415325</td>\n",
       "      <td>-1.131875</td>\n",
       "      <td>-1.409005</td>\n",
       "      <td>1.267674</td>\n",
       "      <td>-0.961091</td>\n",
       "    </tr>\n",
       "    <tr>\n",
       "      <th>1</th>\n",
       "      <td>0.883477</td>\n",
       "      <td>-0.066602</td>\n",
       "      <td>-0.811387</td>\n",
       "      <td>-0.548533</td>\n",
       "      <td>-1.539021</td>\n",
       "    </tr>\n",
       "    <tr>\n",
       "      <th>2</th>\n",
       "      <td>-0.484697</td>\n",
       "      <td>1.162064</td>\n",
       "      <td>-0.530077</td>\n",
       "      <td>-0.867371</td>\n",
       "      <td>0.509513</td>\n",
       "    </tr>\n",
       "    <tr>\n",
       "      <th>3</th>\n",
       "      <td>0.165652</td>\n",
       "      <td>-0.731525</td>\n",
       "      <td>-0.042654</td>\n",
       "      <td>0.824744</td>\n",
       "      <td>-0.068007</td>\n",
       "    </tr>\n",
       "    <tr>\n",
       "      <th>4</th>\n",
       "      <td>-2.903972</td>\n",
       "      <td>0.680239</td>\n",
       "      <td>-0.673553</td>\n",
       "      <td>-0.023256</td>\n",
       "      <td>0.434758</td>\n",
       "    </tr>\n",
       "    <tr>\n",
       "      <th>5</th>\n",
       "      <td>-0.388562</td>\n",
       "      <td>-1.196077</td>\n",
       "      <td>-0.766153</td>\n",
       "      <td>-0.799548</td>\n",
       "      <td>0.286530</td>\n",
       "    </tr>\n",
       "    <tr>\n",
       "      <th>6</th>\n",
       "      <td>-0.735113</td>\n",
       "      <td>0.837132</td>\n",
       "      <td>1.277997</td>\n",
       "      <td>0.086898</td>\n",
       "      <td>-0.737999</td>\n",
       "    </tr>\n",
       "    <tr>\n",
       "      <th>7</th>\n",
       "      <td>0.250116</td>\n",
       "      <td>0.198497</td>\n",
       "      <td>-0.170336</td>\n",
       "      <td>-0.795301</td>\n",
       "      <td>0.448445</td>\n",
       "    </tr>\n",
       "    <tr>\n",
       "      <th>8</th>\n",
       "      <td>-1.168200</td>\n",
       "      <td>-1.485702</td>\n",
       "      <td>1.573069</td>\n",
       "      <td>0.429154</td>\n",
       "      <td>-1.515046</td>\n",
       "    </tr>\n",
       "    <tr>\n",
       "      <th>9</th>\n",
       "      <td>-1.170014</td>\n",
       "      <td>-0.727280</td>\n",
       "      <td>1.170811</td>\n",
       "      <td>0.163698</td>\n",
       "      <td>1.306646</td>\n",
       "    </tr>\n",
       "  </tbody>\n",
       "</table>\n",
       "</div>"
      ],
      "text/plain": [
       "          0         1         2         3         4\n",
       "0  1.415325 -1.131875 -1.409005  1.267674 -0.961091\n",
       "1  0.883477 -0.066602 -0.811387 -0.548533 -1.539021\n",
       "2 -0.484697  1.162064 -0.530077 -0.867371  0.509513\n",
       "3  0.165652 -0.731525 -0.042654  0.824744 -0.068007\n",
       "4 -2.903972  0.680239 -0.673553 -0.023256  0.434758\n",
       "5 -0.388562 -1.196077 -0.766153 -0.799548  0.286530\n",
       "6 -0.735113  0.837132  1.277997  0.086898 -0.737999\n",
       "7  0.250116  0.198497 -0.170336 -0.795301  0.448445\n",
       "8 -1.168200 -1.485702  1.573069  0.429154 -1.515046\n",
       "9 -1.170014 -0.727280  1.170811  0.163698  1.306646"
      ]
     },
     "execution_count": 41,
     "metadata": {},
     "output_type": "execute_result"
    }
   ],
   "source": [
    "frame = pd.DataFrame(np.random.randn(10,5))\n",
    "frame"
   ]
  },
  {
   "cell_type": "code",
   "execution_count": 42,
   "id": "df9e9ceb",
   "metadata": {},
   "outputs": [
    {
     "data": {
      "text/html": [
       "<div>\n",
       "<style scoped>\n",
       "    .dataframe tbody tr th:only-of-type {\n",
       "        vertical-align: middle;\n",
       "    }\n",
       "\n",
       "    .dataframe tbody tr th {\n",
       "        vertical-align: top;\n",
       "    }\n",
       "\n",
       "    .dataframe thead th {\n",
       "        text-align: right;\n",
       "    }\n",
       "</style>\n",
       "<table border=\"1\" class=\"dataframe\">\n",
       "  <thead>\n",
       "    <tr style=\"text-align: right;\">\n",
       "      <th></th>\n",
       "      <th>0</th>\n",
       "      <th>1</th>\n",
       "      <th>2</th>\n",
       "      <th>3</th>\n",
       "      <th>4</th>\n",
       "    </tr>\n",
       "  </thead>\n",
       "  <tbody>\n",
       "    <tr>\n",
       "      <th>0</th>\n",
       "      <td>1</td>\n",
       "      <td>0</td>\n",
       "      <td>0</td>\n",
       "      <td>1</td>\n",
       "      <td>0</td>\n",
       "    </tr>\n",
       "    <tr>\n",
       "      <th>1</th>\n",
       "      <td>1</td>\n",
       "      <td>0</td>\n",
       "      <td>0</td>\n",
       "      <td>0</td>\n",
       "      <td>0</td>\n",
       "    </tr>\n",
       "    <tr>\n",
       "      <th>2</th>\n",
       "      <td>0</td>\n",
       "      <td>1</td>\n",
       "      <td>0</td>\n",
       "      <td>0</td>\n",
       "      <td>1</td>\n",
       "    </tr>\n",
       "    <tr>\n",
       "      <th>3</th>\n",
       "      <td>1</td>\n",
       "      <td>0</td>\n",
       "      <td>0</td>\n",
       "      <td>1</td>\n",
       "      <td>0</td>\n",
       "    </tr>\n",
       "    <tr>\n",
       "      <th>4</th>\n",
       "      <td>0</td>\n",
       "      <td>1</td>\n",
       "      <td>0</td>\n",
       "      <td>0</td>\n",
       "      <td>1</td>\n",
       "    </tr>\n",
       "    <tr>\n",
       "      <th>5</th>\n",
       "      <td>0</td>\n",
       "      <td>0</td>\n",
       "      <td>0</td>\n",
       "      <td>0</td>\n",
       "      <td>1</td>\n",
       "    </tr>\n",
       "    <tr>\n",
       "      <th>6</th>\n",
       "      <td>0</td>\n",
       "      <td>1</td>\n",
       "      <td>1</td>\n",
       "      <td>1</td>\n",
       "      <td>0</td>\n",
       "    </tr>\n",
       "    <tr>\n",
       "      <th>7</th>\n",
       "      <td>1</td>\n",
       "      <td>1</td>\n",
       "      <td>0</td>\n",
       "      <td>0</td>\n",
       "      <td>1</td>\n",
       "    </tr>\n",
       "    <tr>\n",
       "      <th>8</th>\n",
       "      <td>0</td>\n",
       "      <td>0</td>\n",
       "      <td>1</td>\n",
       "      <td>1</td>\n",
       "      <td>0</td>\n",
       "    </tr>\n",
       "    <tr>\n",
       "      <th>9</th>\n",
       "      <td>0</td>\n",
       "      <td>0</td>\n",
       "      <td>1</td>\n",
       "      <td>1</td>\n",
       "      <td>1</td>\n",
       "    </tr>\n",
       "  </tbody>\n",
       "</table>\n",
       "</div>"
      ],
      "text/plain": [
       "   0  1  2  3  4\n",
       "0  1  0  0  1  0\n",
       "1  1  0  0  0  0\n",
       "2  0  1  0  0  1\n",
       "3  1  0  0  1  0\n",
       "4  0  1  0  0  1\n",
       "5  0  0  0  0  1\n",
       "6  0  1  1  1  0\n",
       "7  1  1  0  0  1\n",
       "8  0  0  1  1  0\n",
       "9  0  0  1  1  1"
      ]
     },
     "execution_count": 42,
     "metadata": {},
     "output_type": "execute_result"
    }
   ],
   "source": [
    "f = lambda x: 1*(x>0)\n",
    "frame.apply(f)"
   ]
  },
  {
   "cell_type": "code",
   "execution_count": null,
   "id": "14afa30a",
   "metadata": {},
   "outputs": [],
   "source": []
  }
 ],
 "metadata": {
  "kernelspec": {
   "display_name": "Python 3",
   "language": "python",
   "name": "python3"
  },
  "language_info": {
   "codemirror_mode": {
    "name": "ipython",
    "version": 3
   },
   "file_extension": ".py",
   "mimetype": "text/x-python",
   "name": "python",
   "nbconvert_exporter": "python",
   "pygments_lexer": "ipython3",
   "version": "3.8.10"
  }
 },
 "nbformat": 4,
 "nbformat_minor": 5
}
