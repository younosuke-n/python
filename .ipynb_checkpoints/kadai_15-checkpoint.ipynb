{
 "cells": [
  {
   "cell_type": "markdown",
   "id": "66d439ed",
   "metadata": {},
   "source": [
    "# 1"
   ]
  },
  {
   "cell_type": "markdown",
   "id": "6d99c2e7",
   "metadata": {},
   "source": [
    "mammoth.txt中の詩を変数poemに読み込み、cで始まるすべての単語を表示せよ。"
   ]
  },
  {
   "cell_type": "code",
   "execution_count": 1,
   "id": "03fcca5c",
   "metadata": {},
   "outputs": [],
   "source": [
    "import re\n",
    "import pandas as pd\n",
    "import numpy as np"
   ]
  },
  {
   "cell_type": "code",
   "execution_count": 14,
   "id": "f3b8da43",
   "metadata": {},
   "outputs": [
    {
     "name": "stdout",
     "output_type": "stream",
     "text": [
      "['cheese', 'cial', 'city', 'Cows', 'cheese', 'ceive', 'car', 'cheek', 'could', 'cheese', 'cast', 'crush']\n"
     ]
    }
   ],
   "source": [
    "pattern = r'c[A-Z]+'\n",
    "\n",
    "with open('./kadai15files/mammoth.txt', 'rt') as fin:\n",
    "    poem = fin.read()\n",
    "    m = re.findall(pattern, poem, flags=re.IGNORECASE)\n",
    "    print(m)"
   ]
  },
  {
   "cell_type": "markdown",
   "id": "eb184ebb",
   "metadata": {},
   "source": [
    "# 2"
   ]
  },
  {
   "cell_type": "markdown",
   "id": "b9aef9a6",
   "metadata": {},
   "source": [
    "1と同様の設定において、cで始まるすべての４文字単語を表示せよ。"
   ]
  },
  {
   "cell_type": "code",
   "execution_count": 16,
   "id": "2ad947a2",
   "metadata": {},
   "outputs": [
    {
     "name": "stdout",
     "output_type": "stream",
     "text": [
      "['cial', 'city', 'Cows', 'cast']\n"
     ]
    }
   ],
   "source": [
    "pattern = r'c[A-Z]{3}\\b'\n",
    "\n",
    "with open('./kadai15files/mammoth.txt', 'rt') as fin:\n",
    "    poem = fin.read()\n",
    "    m = re.findall(pattern, poem, flags=re.IGNORECASE)\n",
    "    print(m)"
   ]
  },
  {
   "cell_type": "markdown",
   "id": "dcd3efc9",
   "metadata": {},
   "source": [
    "# 3"
   ]
  },
  {
   "cell_type": "markdown",
   "id": "10bc7cc0",
   "metadata": {},
   "source": [
    "1と同様の設定において、lで終わるすべての単語を表示せよ。"
   ]
  },
  {
   "cell_type": "code",
   "execution_count": 26,
   "id": "7dfab0b4",
   "metadata": {},
   "outputs": [
    {
     "name": "stdout",
     "output_type": "stream",
     "text": [
      "['All', 'Provincial', 'fall']\n"
     ]
    }
   ],
   "source": [
    "pattern = r'(?<!\\')[A-Z]+l\\b'\n",
    "\n",
    "with open('./kadai15files/mammoth.txt', 'rt') as fin:\n",
    "    poem = fin.read()\n",
    "    m = re.findall(pattern, poem, flags=re.IGNORECASE)\n",
    "    print(m)"
   ]
  },
  {
   "cell_type": "markdown",
   "id": "11b5ce45",
   "metadata": {},
   "source": [
    "# 4"
   ]
  }
 ],
 "metadata": {
  "kernelspec": {
   "display_name": "Python 3",
   "language": "python",
   "name": "python3"
  },
  "language_info": {
   "codemirror_mode": {
    "name": "ipython",
    "version": 3
   },
   "file_extension": ".py",
   "mimetype": "text/x-python",
   "name": "python",
   "nbconvert_exporter": "python",
   "pygments_lexer": "ipython3",
   "version": "3.8.10"
  }
 },
 "nbformat": 4,
 "nbformat_minor": 5
}
