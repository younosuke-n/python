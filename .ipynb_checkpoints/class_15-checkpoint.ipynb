{
 "cells": [
  {
   "cell_type": "markdown",
   "id": "a77d9c2b",
   "metadata": {},
   "source": [
    "# reによる正規表現"
   ]
  },
  {
   "cell_type": "code",
   "execution_count": 1,
   "id": "acea3e02",
   "metadata": {},
   "outputs": [],
   "source": [
    "import re"
   ]
  },
  {
   "cell_type": "markdown",
   "id": "a1097660",
   "metadata": {},
   "source": [
    "## 練習問題1"
   ]
  },
  {
   "cell_type": "markdown",
   "id": "bcf78e83",
   "metadata": {},
   "source": [
    "'Young Frankenstein'の中から、kで始まりsで終わる部分をmatch()関数を使って探し出してみよう。"
   ]
  },
  {
   "cell_type": "code",
   "execution_count": 5,
   "id": "77114092",
   "metadata": {},
   "outputs": [
    {
     "name": "stdout",
     "output_type": "stream",
     "text": [
      "Young Frankens\n"
     ]
    }
   ],
   "source": [
    "source = 'Young Frankenstein'\n",
    "m = re.match('.*k.*s', source)\n",
    "\n",
    "if m:\n",
    "    print(m.group())"
   ]
  },
  {
   "cell_type": "markdown",
   "id": "2fd28140",
   "metadata": {},
   "source": [
    "## 練習問題2"
   ]
  },
  {
   "cell_type": "markdown",
   "id": "e420c110",
   "metadata": {},
   "source": [
    "以下のテキストpoemに対し、一行ごとに文章を分割してみよう。\n",
    "\n",
    "poem = '''There was a young lady named Bright,\n",
    "whose speed was far faster than light;\n",
    "She started one day,\n",
    "In a relative way,\n",
    "And returned on the previous night.'''"
   ]
  },
  {
   "cell_type": "code",
   "execution_count": 10,
   "id": "b3715ff5",
   "metadata": {},
   "outputs": [
    {
     "data": {
      "text/plain": [
       "['There was a young lady named Bright,',\n",
       " 'whose speed was far faster than light;',\n",
       " 'She started one day,',\n",
       " 'In a relative way,',\n",
       " 'And returned on the previous night.']"
      ]
     },
     "execution_count": 10,
     "metadata": {},
     "output_type": "execute_result"
    }
   ],
   "source": [
    "poem = '''There was a young lady named Bright,\n",
    "whose speed was far faster than light;\n",
    "She started one day,\n",
    "In a relative way,\n",
    "And returned on the previous night.'''\n",
    "\n",
    "m = re.split('\\n', poem)\n",
    "m"
   ]
  },
  {
   "cell_type": "markdown",
   "id": "1cf19036",
   "metadata": {},
   "source": [
    "## 練習問題3"
   ]
  },
  {
   "cell_type": "markdown",
   "id": "f7919e9e",
   "metadata": {},
   "source": [
    "ファイルパスの中からディレクトリパスを正規表現を用いて取り出せ。 例えば、ファイルパス\n",
    "\n",
    "C:/program/python/hello.py\n",
    "のディレクトリパスは\n",
    "\n",
    "C:/program/python/\n",
    "である。"
   ]
  },
  {
   "cell_type": "code",
   "execution_count": 13,
   "id": "3b40ca4a",
   "metadata": {},
   "outputs": [
    {
     "name": "stdout",
     "output_type": "stream",
     "text": [
      "C:/program/python/\n"
     ]
    }
   ],
   "source": [
    "path = 'C:/program/python/hello.py'\n",
    "\n",
    "m = re.match('.*/', path)\n",
    "\n",
    "if m:\n",
    "    print(m.group())"
   ]
  },
  {
   "cell_type": "markdown",
   "id": "9140b8bb",
   "metadata": {},
   "source": [
    "## 練習問題4"
   ]
  },
  {
   "cell_type": "markdown",
   "id": "7112d2f9",
   "metadata": {},
   "source": [
    "ファイルパスの中からファイル名だけを正規表現を用いて取り出せ。 C:/program/python/hello.pyの場合、hello.pyになる。"
   ]
  },
  {
   "cell_type": "code",
   "execution_count": 19,
   "id": "99aaf318",
   "metadata": {},
   "outputs": [
    {
     "name": "stdout",
     "output_type": "stream",
     "text": [
      "hello.py\n"
     ]
    }
   ],
   "source": [
    "m = re.search('[^/]+$', path)\n",
    "\n",
    "if m:\n",
    "    print(m.group())"
   ]
  },
  {
   "cell_type": "markdown",
   "id": "cc4e040b",
   "metadata": {},
   "source": [
    "## 練習問題5"
   ]
  },
  {
   "cell_type": "markdown",
   "id": "ecf8d1f0",
   "metadata": {},
   "source": [
    "練習問題2のpoemにおいて、行頭の単語をすべてXXXXに置き換えてみよう。"
   ]
  },
  {
   "cell_type": "code",
   "execution_count": 21,
   "id": "122f5051",
   "metadata": {},
   "outputs": [
    {
     "name": "stdout",
     "output_type": "stream",
     "text": [
      "XXXX was a young lady named Bright,\n",
      "XXXX speed was far faster than light;\n",
      "XXXX started one day,\n",
      "XXXX a relative way,\n",
      "XXXX returned on the previous night.\n"
     ]
    }
   ],
   "source": [
    "pattern = r'^\\w+|(?<=\\n)\\w+'\n",
    "regex = re.compile(pattern)\n",
    "regex.findall(poem)\n",
    "print(regex.sub('XXXX', poem))"
   ]
  },
  {
   "cell_type": "markdown",
   "id": "2f6a64ef",
   "metadata": {},
   "source": [
    "## 練習問題6"
   ]
  },
  {
   "cell_type": "markdown",
   "id": "09fa4c6e",
   "metadata": {},
   "source": [
    "日付の文字列情報\n",
    "\n",
    "string1 = \"July 29, 2021\"\n",
    "から、正規表現を用いて月、日、年をそれぞれmonth, day, yearというグループ名にマッチさせ、以下のような辞書として出力せよ。\n",
    "\n",
    "{'Month': 'July', 'Day': '29', 'Year': '2021'}\n",
    "他の日付でもうまくいくか試してみよ。例えば\n",
    "\n",
    "string2 = \"September 1, 2001\""
   ]
  },
  {
   "cell_type": "code",
   "execution_count": 27,
   "id": "e407cadc",
   "metadata": {},
   "outputs": [
    {
     "data": {
      "text/plain": [
       "{'Month': 'July', 'Day': '29', 'Year': '2021'}"
      ]
     },
     "execution_count": 27,
     "metadata": {},
     "output_type": "execute_result"
    }
   ],
   "source": [
    "string1 = 'July 29, 2021'\n",
    "\n",
    "regex = r'(?P<month>\\w+)\\s(?P<day>\\d+)\\,?\\s(?P<year>\\d+)'\n",
    "matches = re.search(regex, string1)\n",
    "\n",
    "d = {'Month': matches.group('month'), 'Day': matches.group('day'), 'Year': matches.group('year')}\n",
    "d"
   ]
  },
  {
   "cell_type": "markdown",
   "id": "e670e372",
   "metadata": {},
   "source": [
    "## 練習問題7"
   ]
  },
  {
   "cell_type": "markdown",
   "id": "5438b52a",
   "metadata": {},
   "source": [
    "text = \"\"\"log_example\n",
    "log_example2\n",
    "log_test20210729\"\"\"\n",
    "に対し、_のアルファベット部分の前後を入れ替えた\n",
    "\n",
    "example_log\n",
    "example_log2\n",
    "test_log20210729\n",
    "のような文字列を正規表現を用いて出力せよ。"
   ]
  },
  {
   "cell_type": "code",
   "execution_count": 31,
   "id": "6890e0d7",
   "metadata": {},
   "outputs": [
    {
     "name": "stdout",
     "output_type": "stream",
     "text": [
      "example_log\n",
      "example_log2\n",
      "test_log20210729\n"
     ]
    }
   ],
   "source": [
    "text = \"\"\"log_example\n",
    "log_example2\n",
    "log_test20210729\"\"\"\n",
    "\n",
    "pattern = r'([A-Z]+)_([A-Z]+)([0-9]*)'\n",
    "regex = re.compile(pattern, flags=re.IGNORECASE)\n",
    "\n",
    "print(regex.sub(r'\\2_\\1\\3', text))"
   ]
  },
  {
   "cell_type": "markdown",
   "id": "c9bd7b39",
   "metadata": {},
   "source": [
    "## 練習問題8"
   ]
  },
  {
   "cell_type": "markdown",
   "id": "cc0304ff",
   "metadata": {},
   "source": [
    "uriage.csvファイルをデータフレームとして読み込み、person列が小文字または大文字のo（オー）で始まるか終わる人のデータ行だけを抽出せよ。"
   ]
  },
  {
   "cell_type": "code",
   "execution_count": 32,
   "id": "c1950547",
   "metadata": {},
   "outputs": [],
   "source": [
    "import pandas as pd\n",
    "import numpy as np"
   ]
  },
  {
   "cell_type": "code",
   "execution_count": 33,
   "id": "bbb878e9",
   "metadata": {},
   "outputs": [
    {
     "data": {
      "text/html": [
       "<div>\n",
       "<style scoped>\n",
       "    .dataframe tbody tr th:only-of-type {\n",
       "        vertical-align: middle;\n",
       "    }\n",
       "\n",
       "    .dataframe tbody tr th {\n",
       "        vertical-align: top;\n",
       "    }\n",
       "\n",
       "    .dataframe thead th {\n",
       "        text-align: right;\n",
       "    }\n",
       "</style>\n",
       "<table border=\"1\" class=\"dataframe\">\n",
       "  <thead>\n",
       "    <tr style=\"text-align: right;\">\n",
       "      <th></th>\n",
       "      <th>date</th>\n",
       "      <th>goods</th>\n",
       "      <th>price</th>\n",
       "      <th>quantity</th>\n",
       "      <th>amount</th>\n",
       "      <th>person</th>\n",
       "    </tr>\n",
       "  </thead>\n",
       "  <tbody>\n",
       "    <tr>\n",
       "      <th>0</th>\n",
       "      <td>2020/10/2</td>\n",
       "      <td>Printer</td>\n",
       "      <td>30000</td>\n",
       "      <td>5</td>\n",
       "      <td>150000</td>\n",
       "      <td>Yamada</td>\n",
       "    </tr>\n",
       "    <tr>\n",
       "      <th>1</th>\n",
       "      <td>2020/10/2</td>\n",
       "      <td>DigiCam</td>\n",
       "      <td>25000</td>\n",
       "      <td>8</td>\n",
       "      <td>200000</td>\n",
       "      <td>Suzuki</td>\n",
       "    </tr>\n",
       "    <tr>\n",
       "      <th>2</th>\n",
       "      <td>2020/10/2</td>\n",
       "      <td>Scanner</td>\n",
       "      <td>20000</td>\n",
       "      <td>3</td>\n",
       "      <td>60000</td>\n",
       "      <td>Suzuki</td>\n",
       "    </tr>\n",
       "    <tr>\n",
       "      <th>3</th>\n",
       "      <td>2020/10/2</td>\n",
       "      <td>PC</td>\n",
       "      <td>110000</td>\n",
       "      <td>6</td>\n",
       "      <td>660000</td>\n",
       "      <td>Kato</td>\n",
       "    </tr>\n",
       "    <tr>\n",
       "      <th>4</th>\n",
       "      <td>2020/10/2</td>\n",
       "      <td>USB memory</td>\n",
       "      <td>4000</td>\n",
       "      <td>9</td>\n",
       "      <td>36000</td>\n",
       "      <td>Kato</td>\n",
       "    </tr>\n",
       "    <tr>\n",
       "      <th>5</th>\n",
       "      <td>2020/10/2</td>\n",
       "      <td>USB memory</td>\n",
       "      <td>4000</td>\n",
       "      <td>5</td>\n",
       "      <td>20000</td>\n",
       "      <td>Ogawa</td>\n",
       "    </tr>\n",
       "    <tr>\n",
       "      <th>6</th>\n",
       "      <td>2020/10/3</td>\n",
       "      <td>Printer</td>\n",
       "      <td>30000</td>\n",
       "      <td>3</td>\n",
       "      <td>90000</td>\n",
       "      <td>Yamada</td>\n",
       "    </tr>\n",
       "    <tr>\n",
       "      <th>7</th>\n",
       "      <td>2020/10/3</td>\n",
       "      <td>Scanner</td>\n",
       "      <td>20000</td>\n",
       "      <td>4</td>\n",
       "      <td>80000</td>\n",
       "      <td>Yamada</td>\n",
       "    </tr>\n",
       "    <tr>\n",
       "      <th>8</th>\n",
       "      <td>2020/10/3</td>\n",
       "      <td>PC</td>\n",
       "      <td>110000</td>\n",
       "      <td>3</td>\n",
       "      <td>330000</td>\n",
       "      <td>Yamada</td>\n",
       "    </tr>\n",
       "    <tr>\n",
       "      <th>9</th>\n",
       "      <td>2020/10/3</td>\n",
       "      <td>USB memory</td>\n",
       "      <td>4000</td>\n",
       "      <td>2</td>\n",
       "      <td>8000</td>\n",
       "      <td>Suzuki</td>\n",
       "    </tr>\n",
       "    <tr>\n",
       "      <th>10</th>\n",
       "      <td>2020/10/3</td>\n",
       "      <td>Scanner</td>\n",
       "      <td>20000</td>\n",
       "      <td>7</td>\n",
       "      <td>140000</td>\n",
       "      <td>Suzuki</td>\n",
       "    </tr>\n",
       "    <tr>\n",
       "      <th>11</th>\n",
       "      <td>2020/10/3</td>\n",
       "      <td>Printer</td>\n",
       "      <td>30000</td>\n",
       "      <td>5</td>\n",
       "      <td>150000</td>\n",
       "      <td>Kato</td>\n",
       "    </tr>\n",
       "    <tr>\n",
       "      <th>12</th>\n",
       "      <td>2020/10/3</td>\n",
       "      <td>DigiCam</td>\n",
       "      <td>25000</td>\n",
       "      <td>3</td>\n",
       "      <td>75000</td>\n",
       "      <td>Kato</td>\n",
       "    </tr>\n",
       "    <tr>\n",
       "      <th>13</th>\n",
       "      <td>2020/10/3</td>\n",
       "      <td>DigiCam</td>\n",
       "      <td>25000</td>\n",
       "      <td>4</td>\n",
       "      <td>100000</td>\n",
       "      <td>Ogawa</td>\n",
       "    </tr>\n",
       "    <tr>\n",
       "      <th>14</th>\n",
       "      <td>2020/10/3</td>\n",
       "      <td>Scanner</td>\n",
       "      <td>20000</td>\n",
       "      <td>6</td>\n",
       "      <td>120000</td>\n",
       "      <td>Ogawa</td>\n",
       "    </tr>\n",
       "    <tr>\n",
       "      <th>15</th>\n",
       "      <td>2020/10/4</td>\n",
       "      <td>DigiCam</td>\n",
       "      <td>25000</td>\n",
       "      <td>7</td>\n",
       "      <td>175000</td>\n",
       "      <td>Yamada</td>\n",
       "    </tr>\n",
       "    <tr>\n",
       "      <th>16</th>\n",
       "      <td>2020/10/4</td>\n",
       "      <td>Scanner</td>\n",
       "      <td>20000</td>\n",
       "      <td>3</td>\n",
       "      <td>60000</td>\n",
       "      <td>Kato</td>\n",
       "    </tr>\n",
       "    <tr>\n",
       "      <th>17</th>\n",
       "      <td>2020/10/4</td>\n",
       "      <td>PC</td>\n",
       "      <td>110000</td>\n",
       "      <td>5</td>\n",
       "      <td>550000</td>\n",
       "      <td>Ogawa</td>\n",
       "    </tr>\n",
       "    <tr>\n",
       "      <th>18</th>\n",
       "      <td>2020/10/4</td>\n",
       "      <td>Scanner</td>\n",
       "      <td>20000</td>\n",
       "      <td>2</td>\n",
       "      <td>40000</td>\n",
       "      <td>Ogawa</td>\n",
       "    </tr>\n",
       "  </tbody>\n",
       "</table>\n",
       "</div>"
      ],
      "text/plain": [
       "         date       goods   price  quantity  amount  person\n",
       "0   2020/10/2     Printer   30000         5  150000  Yamada\n",
       "1   2020/10/2     DigiCam   25000         8  200000  Suzuki\n",
       "2   2020/10/2     Scanner   20000         3   60000  Suzuki\n",
       "3   2020/10/2          PC  110000         6  660000    Kato\n",
       "4   2020/10/2  USB memory    4000         9   36000    Kato\n",
       "5   2020/10/2  USB memory    4000         5   20000   Ogawa\n",
       "6   2020/10/3     Printer   30000         3   90000  Yamada\n",
       "7   2020/10/3     Scanner   20000         4   80000  Yamada\n",
       "8   2020/10/3          PC  110000         3  330000  Yamada\n",
       "9   2020/10/3  USB memory    4000         2    8000  Suzuki\n",
       "10  2020/10/3     Scanner   20000         7  140000  Suzuki\n",
       "11  2020/10/3     Printer   30000         5  150000    Kato\n",
       "12  2020/10/3     DigiCam   25000         3   75000    Kato\n",
       "13  2020/10/3     DigiCam   25000         4  100000   Ogawa\n",
       "14  2020/10/3     Scanner   20000         6  120000   Ogawa\n",
       "15  2020/10/4     DigiCam   25000         7  175000  Yamada\n",
       "16  2020/10/4     Scanner   20000         3   60000    Kato\n",
       "17  2020/10/4          PC  110000         5  550000   Ogawa\n",
       "18  2020/10/4     Scanner   20000         2   40000   Ogawa"
      ]
     },
     "execution_count": 33,
     "metadata": {},
     "output_type": "execute_result"
    }
   ],
   "source": [
    "data = pd.read_csv('./examples/uriage.csv')\n",
    "data"
   ]
  },
  {
   "cell_type": "code",
   "execution_count": 36,
   "id": "2296ae92",
   "metadata": {},
   "outputs": [
    {
     "data": {
      "text/html": [
       "<div>\n",
       "<style scoped>\n",
       "    .dataframe tbody tr th:only-of-type {\n",
       "        vertical-align: middle;\n",
       "    }\n",
       "\n",
       "    .dataframe tbody tr th {\n",
       "        vertical-align: top;\n",
       "    }\n",
       "\n",
       "    .dataframe thead th {\n",
       "        text-align: right;\n",
       "    }\n",
       "</style>\n",
       "<table border=\"1\" class=\"dataframe\">\n",
       "  <thead>\n",
       "    <tr style=\"text-align: right;\">\n",
       "      <th></th>\n",
       "      <th>date</th>\n",
       "      <th>goods</th>\n",
       "      <th>price</th>\n",
       "      <th>quantity</th>\n",
       "      <th>amount</th>\n",
       "      <th>person</th>\n",
       "    </tr>\n",
       "  </thead>\n",
       "  <tbody>\n",
       "    <tr>\n",
       "      <th>3</th>\n",
       "      <td>2020/10/2</td>\n",
       "      <td>PC</td>\n",
       "      <td>110000</td>\n",
       "      <td>6</td>\n",
       "      <td>660000</td>\n",
       "      <td>Kato</td>\n",
       "    </tr>\n",
       "    <tr>\n",
       "      <th>4</th>\n",
       "      <td>2020/10/2</td>\n",
       "      <td>USB memory</td>\n",
       "      <td>4000</td>\n",
       "      <td>9</td>\n",
       "      <td>36000</td>\n",
       "      <td>Kato</td>\n",
       "    </tr>\n",
       "    <tr>\n",
       "      <th>5</th>\n",
       "      <td>2020/10/2</td>\n",
       "      <td>USB memory</td>\n",
       "      <td>4000</td>\n",
       "      <td>5</td>\n",
       "      <td>20000</td>\n",
       "      <td>Ogawa</td>\n",
       "    </tr>\n",
       "    <tr>\n",
       "      <th>11</th>\n",
       "      <td>2020/10/3</td>\n",
       "      <td>Printer</td>\n",
       "      <td>30000</td>\n",
       "      <td>5</td>\n",
       "      <td>150000</td>\n",
       "      <td>Kato</td>\n",
       "    </tr>\n",
       "    <tr>\n",
       "      <th>12</th>\n",
       "      <td>2020/10/3</td>\n",
       "      <td>DigiCam</td>\n",
       "      <td>25000</td>\n",
       "      <td>3</td>\n",
       "      <td>75000</td>\n",
       "      <td>Kato</td>\n",
       "    </tr>\n",
       "    <tr>\n",
       "      <th>13</th>\n",
       "      <td>2020/10/3</td>\n",
       "      <td>DigiCam</td>\n",
       "      <td>25000</td>\n",
       "      <td>4</td>\n",
       "      <td>100000</td>\n",
       "      <td>Ogawa</td>\n",
       "    </tr>\n",
       "    <tr>\n",
       "      <th>14</th>\n",
       "      <td>2020/10/3</td>\n",
       "      <td>Scanner</td>\n",
       "      <td>20000</td>\n",
       "      <td>6</td>\n",
       "      <td>120000</td>\n",
       "      <td>Ogawa</td>\n",
       "    </tr>\n",
       "    <tr>\n",
       "      <th>16</th>\n",
       "      <td>2020/10/4</td>\n",
       "      <td>Scanner</td>\n",
       "      <td>20000</td>\n",
       "      <td>3</td>\n",
       "      <td>60000</td>\n",
       "      <td>Kato</td>\n",
       "    </tr>\n",
       "    <tr>\n",
       "      <th>17</th>\n",
       "      <td>2020/10/4</td>\n",
       "      <td>PC</td>\n",
       "      <td>110000</td>\n",
       "      <td>5</td>\n",
       "      <td>550000</td>\n",
       "      <td>Ogawa</td>\n",
       "    </tr>\n",
       "    <tr>\n",
       "      <th>18</th>\n",
       "      <td>2020/10/4</td>\n",
       "      <td>Scanner</td>\n",
       "      <td>20000</td>\n",
       "      <td>2</td>\n",
       "      <td>40000</td>\n",
       "      <td>Ogawa</td>\n",
       "    </tr>\n",
       "  </tbody>\n",
       "</table>\n",
       "</div>"
      ],
      "text/plain": [
       "         date       goods   price  quantity  amount person\n",
       "3   2020/10/2          PC  110000         6  660000   Kato\n",
       "4   2020/10/2  USB memory    4000         9   36000   Kato\n",
       "5   2020/10/2  USB memory    4000         5   20000  Ogawa\n",
       "11  2020/10/3     Printer   30000         5  150000   Kato\n",
       "12  2020/10/3     DigiCam   25000         3   75000   Kato\n",
       "13  2020/10/3     DigiCam   25000         4  100000  Ogawa\n",
       "14  2020/10/3     Scanner   20000         6  120000  Ogawa\n",
       "16  2020/10/4     Scanner   20000         3   60000   Kato\n",
       "17  2020/10/4          PC  110000         5  550000  Ogawa\n",
       "18  2020/10/4     Scanner   20000         2   40000  Ogawa"
      ]
     },
     "execution_count": 36,
     "metadata": {},
     "output_type": "execute_result"
    }
   ],
   "source": [
    "pattern = r'^o|o$'\n",
    "data[data['person'].str.contains(pattern, flags=re.IGNORECASE)]"
   ]
  },
  {
   "cell_type": "code",
   "execution_count": null,
   "id": "88a54baa",
   "metadata": {},
   "outputs": [],
   "source": []
  }
 ],
 "metadata": {
  "kernelspec": {
   "display_name": "Python 3",
   "language": "python",
   "name": "python3"
  },
  "language_info": {
   "codemirror_mode": {
    "name": "ipython",
    "version": 3
   },
   "file_extension": ".py",
   "mimetype": "text/x-python",
   "name": "python",
   "nbconvert_exporter": "python",
   "pygments_lexer": "ipython3",
   "version": "3.8.10"
  }
 },
 "nbformat": 4,
 "nbformat_minor": 5
}
