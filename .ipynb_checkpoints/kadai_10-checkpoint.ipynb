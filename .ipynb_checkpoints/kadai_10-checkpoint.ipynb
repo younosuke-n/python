{
 "cells": [
  {
   "cell_type": "code",
   "execution_count": 2,
   "id": "d487bdd1",
   "metadata": {},
   "outputs": [],
   "source": [
    "import numpy as np\n",
    "from numpy import linalg as la"
   ]
  },
  {
   "cell_type": "markdown",
   "id": "8e935cd5",
   "metadata": {},
   "source": [
    "# 1"
   ]
  },
  {
   "cell_type": "markdown",
   "id": "0ef843f3",
   "metadata": {},
   "source": [
    "対角化可能行列Aが与えられたとき、対角化してからそのn乗を計算する関数matrix_power(A,n)を書け。"
   ]
  },
  {
   "cell_type": "code",
   "execution_count": 27,
   "id": "2f0895fa",
   "metadata": {},
   "outputs": [],
   "source": [
    "def matrix_power(A, n):\n",
    "    def inner_power(diag, n):\n",
    "        if n == 0:\n",
    "            print(diag)\n",
    "            return\n",
    "        else:\n",
    "            diag = diag.dot(diag)\n",
    "            return inner_power(diag, n-1)\n",
    "        \n",
    "    w, p = la.eig(A)\n",
    "    pinv = la.inv(p)\n",
    "    diag = (pinv.dot(A)).dot(p)\n",
    "    return inner_power(diag, n-1)"
   ]
  },
  {
   "cell_type": "code",
   "execution_count": 28,
   "id": "6324f073",
   "metadata": {},
   "outputs": [
    {
     "name": "stdout",
     "output_type": "stream",
     "text": [
      "[[ 9.00000000e+00 -9.32587341e-15]\n",
      " [ 0.00000000e+00  1.21000000e+02]]\n"
     ]
    }
   ],
   "source": [
    "A = np.array([[5, 3],\n",
    "             [4, 9]])\n",
    "\n",
    "matrix_power(A, 2)"
   ]
  },
  {
   "cell_type": "markdown",
   "id": "534f107e",
   "metadata": {},
   "source": [
    "# 2"
   ]
  },
  {
   "cell_type": "markdown",
   "id": "c957e70e",
   "metadata": {},
   "source": [
    "直線 y = a*x + b に乱数によるノイズを加えた点をデータとし、そのデータの回帰直線 y = m*x + c を求めよ。以下のプログラムはノイズを加えた点集合を作成し、プロットするものである。このプログラムに必要な処理を追加し、m, cの値を求め回帰直線を同じグラフにプロットせよ。なお、プログラム中ではnumpyのライブラリ関数は何を使用しても良い。"
   ]
  },
  {
   "cell_type": "code",
   "execution_count": 20,
   "id": "a51a29af",
   "metadata": {},
   "outputs": [],
   "source": [
    "import matplotlib.pyplot as plt"
   ]
  },
  {
   "cell_type": "code",
   "execution_count": 26,
   "id": "a1970533",
   "metadata": {},
   "outputs": [
    {
     "data": {
      "image/png": "[encoded data removed]",
      "text/plain": [
       "<Figure size 432x288 with 1 Axes>"
      ]
     },
     "metadata": {
      "needs_background": "light"
     },
     "output_type": "display_data"
    }
   ],
   "source": [
    "x = np.linspace(-10, 10, 50)\n",
    "a = 2\n",
    "b = 3\n",
    "y = a * x + b\n",
    "np.random.seed(0)\n",
    "y = y + np.random.randn(x.size) * 10  # ノイズの付加\n",
    "A = np.vstack([x, np.ones(len(x))]).T\n",
    "m, c = np.linalg.lstsq(A, y, rcond=None)[0]\n",
    "_ = plt.plot(x, y, 'o', label='Original data')\n",
    "_ = plt.plot(x, a * x + b, 'g', label='Previous')\n",
    "_ = plt.plot(x, m * x + c, 'r', label='Answer')\n",
    "_ = plt.legend()\n",
    "plt.show()"
   ]
  },
  {
   "cell_type": "code",
   "execution_count": null,
   "id": "60bc682b",
   "metadata": {},
   "outputs": [],
   "source": []
  }
 ],
 "metadata": {
  "kernelspec": {
   "display_name": "Python 3",
   "language": "python",
   "name": "python3"
  },
  "language_info": {
   "codemirror_mode": {
    "name": "ipython",
    "version": 3
   },
   "file_extension": ".py",
   "mimetype": "text/x-python",
   "name": "python",
   "nbconvert_exporter": "python",
   "pygments_lexer": "ipython3",
   "version": "3.8.10"
  }
 },
 "nbformat": 4,
 "nbformat_minor": 5
}
