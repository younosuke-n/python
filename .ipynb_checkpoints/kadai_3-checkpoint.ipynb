{
 "cells": [
  {
   "cell_type": "markdown",
   "metadata": {},
   "source": [
    "# 1"
   ]
  },
  {
   "cell_type": "markdown",
   "metadata": {},
   "source": [
    "ユーザに10個の正の整数の入力を促した上、その中で最も大きな奇数の値を表示するプログラムを書け。もし奇数がない場合、それを示すメッセージを表示せよ。"
   ]
  },
  {
   "cell_type": "code",
   "execution_count": 4,
   "metadata": {},
   "outputs": [
    {
     "name": "stdout",
     "output_type": "stream",
     "text": [
      "input natural number2\n",
      "input natural number4\n",
      "input natural number6\n",
      "input natural number8\n",
      "input natural number10\n",
      "input natural number12\n",
      "input natural number14\n",
      "input natural number16\n",
      "input natural number18\n",
      "input natural number20\n",
      "odd number is not in input numbers.\n"
     ]
    }
   ],
   "source": [
    "count = 0\n",
    "numbers = []\n",
    "while count < 10:\n",
    "    number = input(\"input natural number\")\n",
    "    numbers.append(int(number))\n",
    "    count += 1\n",
    "    \n",
    "oddmax = 0\n",
    "flag = False\n",
    "for number in numbers:\n",
    "    if number % 2 == 1:\n",
    "        flag = True\n",
    "        if number > oddmax:\n",
    "            oddmax = number\n",
    "            \n",
    "if flag:\n",
    "    print(oddmax)\n",
    "else:\n",
    "    print(\"odd number is not in input numbers.\")"
   ]
  },
  {
   "cell_type": "markdown",
   "metadata": {},
   "source": [
    "# 2"
   ]
  },
  {
   "cell_type": "markdown",
   "metadata": {},
   "source": [
    "リスト内包表記を使って、range(10)の偶数のリストを作れ。"
   ]
  },
  {
   "cell_type": "code",
   "execution_count": 6,
   "metadata": {},
   "outputs": [
    {
     "data": {
      "text/plain": [
       "[0, 2, 4, 6, 8]"
      ]
     },
     "execution_count": 6,
     "metadata": {},
     "output_type": "execute_result"
    }
   ],
   "source": [
    "evennumbers = [number for number in range(10) if number % 2 ==0]\n",
    "evennumbers"
   ]
  },
  {
   "cell_type": "markdown",
   "metadata": {},
   "source": [
    "# 3"
   ]
  },
  {
   "cell_type": "markdown",
   "metadata": {},
   "source": [
    "辞書内包表記を使って、squaresという辞書を作れ。これはrange(10)を使ってキーを返し、各キーの自乗をその値とする。"
   ]
  },
  {
   "cell_type": "code",
   "execution_count": 8,
   "metadata": {},
   "outputs": [
    {
     "data": {
      "text/plain": [
       "{0: 0, 1: 1, 2: 4, 3: 9, 4: 16, 5: 25, 6: 36, 7: 49, 8: 64, 9: 81}"
      ]
     },
     "execution_count": 8,
     "metadata": {},
     "output_type": "execute_result"
    }
   ],
   "source": [
    "squares = {number: number ** 2 for number in range(10)}\n",
    "squares"
   ]
  },
  {
   "cell_type": "markdown",
   "metadata": {},
   "source": [
    "# 4"
   ]
  },
  {
   "cell_type": "markdown",
   "metadata": {},
   "source": [
    "集合内包表記を使って、range(10)の奇数からoddという集合を作れ。"
   ]
  },
  {
   "cell_type": "code",
   "execution_count": 9,
   "metadata": {},
   "outputs": [
    {
     "data": {
      "text/plain": [
       "{1, 3, 5, 7, 9}"
      ]
     },
     "execution_count": 9,
     "metadata": {},
     "output_type": "execute_result"
    }
   ],
   "source": [
    "odd = {number for number in range(10) if number % 2 ==1}\n",
    "odd"
   ]
  },
  {
   "cell_type": "markdown",
   "metadata": {},
   "source": [
    "# 5"
   ]
  },
  {
   "cell_type": "markdown",
   "metadata": {},
   "source": [
    "ジェネレータ内包表記を使ってrange(10)の数値に対して、'Got (数値)'と数値を返せ。forループを使って反復処理すること。"
   ]
  },
  {
   "cell_type": "code",
   "execution_count": 10,
   "metadata": {},
   "outputs": [
    {
     "name": "stdout",
     "output_type": "stream",
     "text": [
      "Got(0)\n",
      "Got(1)\n",
      "Got(2)\n",
      "Got(3)\n",
      "Got(4)\n",
      "Got(5)\n",
      "Got(6)\n",
      "Got(7)\n",
      "Got(8)\n",
      "Got(9)\n"
     ]
    }
   ],
   "source": [
    "num_gen = (number for number in range(10))\n",
    "for value in num_gen:\n",
    "    print(\"Got(%d)\" %(value,))"
   ]
  },
  {
   "cell_type": "markdown",
   "metadata": {},
   "source": [
    "# 6"
   ]
  },
  {
   "cell_type": "markdown",
   "metadata": {},
   "source": [
    "小数を含む文字列（例えば、s='1.23,2.4,3.123')を引数にとり、それをコンマで分けた上、その合計を求め、これを表示する関数を書け。 "
   ]
  },
  {
   "cell_type": "code",
   "execution_count": 15,
   "metadata": {},
   "outputs": [
    {
     "name": "stdout",
     "output_type": "stream",
     "text": [
      "6.753\n"
     ]
    }
   ],
   "source": [
    "def stringsum(str):\n",
    "    sum = 0\n",
    "    for num in str.split(','):\n",
    "        sum += float(num)\n",
    "    return sum\n",
    "    \n",
    "s = '1.23,2.4,3.123'\n",
    "print(stringsum(s))"
   ]
  },
  {
   "cell_type": "markdown",
   "metadata": {},
   "source": [
    "# 7"
   ]
  },
  {
   "cell_type": "markdown",
   "metadata": {},
   "source": [
    "可変個の整数を受け取ってその総和を返す関数sum_integersを書け。例えばsum_integers(1,2,3,4,5)と呼び出せば15に、sum_integers(1,2,3,4,5,100)と呼び出せば115が返ってくる。"
   ]
  },
  {
   "cell_type": "code",
   "execution_count": 16,
   "metadata": {},
   "outputs": [
    {
     "name": "stdout",
     "output_type": "stream",
     "text": [
      "15\n",
      "115\n"
     ]
    }
   ],
   "source": [
    "def sum_integers(*args):\n",
    "    sum = 0\n",
    "    for num in args:\n",
    "        sum += num\n",
    "    return sum\n",
    "\n",
    "print(sum_integers(1,2,3,4,5))\n",
    "print(sum_integers(1,2,3,4,5,100))"
   ]
  },
  {
   "cell_type": "markdown",
   "metadata": {},
   "source": [
    "# 8"
   ]
  },
  {
   "cell_type": "markdown",
   "metadata": {},
   "source": [
    "不定個の引数を取り、各引数に与えられた整数の値の総和を求める関数sum_argsを書け。例えばsum_args(x=1,y=2,z=3,u=4,v=5)と呼び出せば15に、sum_args(x=1,y=2,z=3,u=4,v=5,w=100)と呼び出せば115が返ってくる。"
   ]
  },
  {
   "cell_type": "code",
   "execution_count": 17,
   "metadata": {},
   "outputs": [
    {
     "name": "stdout",
     "output_type": "stream",
     "text": [
      "15\n",
      "115\n"
     ]
    }
   ],
   "source": [
    "def sum_args(**kwargs):\n",
    "    sum = 0\n",
    "    for num in kwargs.values():\n",
    "        sum += num\n",
    "    return sum\n",
    "\n",
    "print(sum_args(x=1,y=2,z=3,u=4,v=5))\n",
    "print(sum_args(x=1,y=2,z=3,u=4,v=5,w=100))"
   ]
  }
 ],
 "metadata": {
  "kernelspec": {
   "display_name": "Python 3",
   "language": "python",
   "name": "python3"
  },
  "language_info": {
   "codemirror_mode": {
    "name": "ipython",
    "version": 3
   },
   "file_extension": ".py",
   "mimetype": "text/x-python",
   "name": "python",
   "nbconvert_exporter": "python",
   "pygments_lexer": "ipython3",
   "version": "3.8.5"
  }
 },
 "nbformat": 4,
 "nbformat_minor": 4
}
